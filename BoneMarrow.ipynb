{
  "cells": [
    {
      "cell_type": "markdown",
      "metadata": {
        "id": "view-in-github",
        "colab_type": "text"
      },
      "source": [
        "<a href=\"https://colab.research.google.com/github/ducanhdang06/bone_marrow_ml/blob/main/BoneMarrow.ipynb\" target=\"_parent\"><img src=\"https://colab.research.google.com/assets/colab-badge.svg\" alt=\"Open In Colab\"/></a>"
      ]
    },
    {
      "cell_type": "markdown",
      "metadata": {
        "id": "pQ5nHMl5B1mo"
      },
      "source": [
        "#**1. Data**"
      ]
    },
    {
      "cell_type": "code",
      "execution_count": null,
      "metadata": {
        "id": "98sJ6Gp9hQ8L"
      },
      "outputs": [],
      "source": [
        "import pandas as pd\n",
        "from sklearn.preprocessing import StandardScaler\n",
        "from sklearn.linear_model import LogisticRegression\n",
        "from sklearn.metrics import confusion_matrix\n",
        "from sklearn.metrics import ConfusionMatrixDisplay\n",
        "from sklearn import metrics\n",
        "from sklearn.preprocessing import PolynomialFeatures\n",
        "from sklearn.preprocessing import StandardScaler\n",
        "from sklearn.linear_model import LinearRegression\n",
        "from sklearn.metrics import mean_squared_error\n",
        "from sklearn.model_selection import cross_val_score\n",
        "from pandas.plotting import scatter_matrix\n",
        "import matplotlib.pyplot as plt\n",
        "from sklearn.model_selection import train_test_split\n",
        "from sklearn.linear_model import Lasso\n",
        "from sklearn.metrics import mean_squared_error\n",
        "from sklearn.metrics import r2_score\n",
        "from sklearn.preprocessing import PolynomialFeatures\n",
        "from sklearn.model_selection import KFold\n",
        "from sklearn.svm import SVC\n",
        "from matplotlib import pyplot\n",
        "\n",
        "def print_4_metrics(target_test, predicted):\n",
        "  print(\"%-12s %f\" % ('Accuracy:', metrics.accuracy_score(target_test,predicted)))\n",
        "  print(\"%-12s %f\" % ('Precision:', metrics.precision_score(target_test, predicted,labels=None, pos_label=1, average='binary', sample_weight=None)))\n",
        "  print(\"%-12s %f\" % ('Recall:', metrics.recall_score(target_test, predicted,labels=None, pos_label=1, average='binary', sample_weight=None)))\n",
        "  print(\"%-12s %f\" % ('F1 Score:', metrics.f1_score(target_test, predicted,labels=None, pos_label=1, average='binary', sample_weight=None)))\n",
        "\n",
        "def draw_confusion_matrix(y, yhat, classes):\n",
        "    '''\n",
        "        Draws a confusion matrix for the given target and predictions\n",
        "        Adapted from scikit-learn and discussion example.\n",
        "    '''\n",
        "    plt.cla()\n",
        "    plt.clf()\n",
        "    matrix = confusion_matrix(y, yhat)\n",
        "    plt.imshow(matrix, interpolation='nearest', cmap=plt.cm.Blues)\n",
        "    plt.title(\"Confusion Matrix\")\n",
        "    plt.colorbar()\n",
        "    num_classes = len(classes)\n",
        "    plt.xticks(np.arange(num_classes), classes, rotation=90)\n",
        "    plt.yticks(np.arange(num_classes), classes)\n",
        "\n",
        "    fmt = 'd'\n",
        "    thresh = matrix.max() / 2.\n",
        "    for i, j in itertools.product(range(matrix.shape[0]), range(matrix.shape[1])):\n",
        "        plt.text(j, i, format(matrix[i, j], fmt),\n",
        "                 horizontalalignment=\"center\",\n",
        "                 color=\"white\" if matrix[i, j] > thresh else \"black\")\n",
        "\n",
        "    plt.ylabel('True label')\n",
        "    plt.xlabel('Predicted label')\n",
        "    plt.tight_layout()\n",
        "    plt.show()\n"
      ]
    },
    {
      "cell_type": "code",
      "execution_count": null,
      "metadata": {
        "id": "x1LUT2cc4UeT"
      },
      "outputs": [],
      "source": [
        "# Data Preparation"
      ]
    },
    {
      "cell_type": "code",
      "execution_count": null,
      "metadata": {
        "id": "rYGOcAfnf7k9",
        "colab": {
          "base_uri": "https://localhost:8080/",
          "height": 270
        },
        "outputId": "df1340cf-0757-48fd-b43e-4085236da5cf"
      },
      "outputs": [
        {
          "output_type": "execute_result",
          "data": {
            "text/plain": [
              "   Recipientgender {1,0}  Stemcellsource {1,0}  Donorage numeric  \\\n",
              "0                      1                     1         22.830137   \n",
              "1                      1                     0         23.342466   \n",
              "2                      1                     0         26.394521   \n",
              "3                      0                     0         39.684932   \n",
              "4                      0                     1         33.358904   \n",
              "\n",
              "   Donorage35 {0,1}  IIIV {1,0}  Gendermatch {0,1}  DonorABO {1,-1,2,0}  \\\n",
              "0                 0           1                  0                    1   \n",
              "1                 0           1                  0                   -1   \n",
              "2                 0           1                  0                   -1   \n",
              "3                 1           1                  0                    1   \n",
              "4                 0           0                  0                    1   \n",
              "\n",
              "  RecipientABO {1,-1,2,0} RecipientRh {1,0} ABOmatch {0,1}  ...  \\\n",
              "0                       1                 1              0  ...   \n",
              "1                      -1                 1              0  ...   \n",
              "2                      -1                 1              0  ...   \n",
              "3                       2                 1              1  ...   \n",
              "4                       2                 0              1  ...   \n",
              "\n",
              "  extcGvHD {1,0} CD34kgx10d6 numeric CD3dCD34 numeric CD3dkgx10d8 numeric  \\\n",
              "0              1                7.20          1.33876                5.38   \n",
              "1              1                4.50        11.078295                0.41   \n",
              "2              1                7.94         19.01323                0.42   \n",
              "3              ?                4.25        29.481647                0.14   \n",
              "4              1               51.85         3.972255               13.05   \n",
              "\n",
              "   Rbodymass numeric  ANCrecovery numeric  PLTrecovery numeric  \\\n",
              "0                 35                   19                   51   \n",
              "1               20.6                   16                   37   \n",
              "2               23.4                   23                   20   \n",
              "3                 50                   23                   29   \n",
              "4                  9                   14                   14   \n",
              "\n",
              "   time_to_aGvHD_III_IV numeric  supervision_time numeric  \\\n",
              "0                            32                       999   \n",
              "1                       1000000                       163   \n",
              "2                       1000000                       435   \n",
              "3                            19                        53   \n",
              "4                       1000000                      2043   \n",
              "\n",
              "  survival_status numeric  \n",
              "0                       0  \n",
              "1                       1  \n",
              "2                       1  \n",
              "3                       1  \n",
              "4                       0  \n",
              "\n",
              "[5 rows x 37 columns]"
            ],
            "text/html": [
              "\n",
              "  <div id=\"df-95082ee0-5a37-43f6-8cef-62e4359d8cc4\" class=\"colab-df-container\">\n",
              "    <div>\n",
              "<style scoped>\n",
              "    .dataframe tbody tr th:only-of-type {\n",
              "        vertical-align: middle;\n",
              "    }\n",
              "\n",
              "    .dataframe tbody tr th {\n",
              "        vertical-align: top;\n",
              "    }\n",
              "\n",
              "    .dataframe thead th {\n",
              "        text-align: right;\n",
              "    }\n",
              "</style>\n",
              "<table border=\"1\" class=\"dataframe\">\n",
              "  <thead>\n",
              "    <tr style=\"text-align: right;\">\n",
              "      <th></th>\n",
              "      <th>Recipientgender {1,0}</th>\n",
              "      <th>Stemcellsource {1,0}</th>\n",
              "      <th>Donorage numeric</th>\n",
              "      <th>Donorage35 {0,1}</th>\n",
              "      <th>IIIV {1,0}</th>\n",
              "      <th>Gendermatch {0,1}</th>\n",
              "      <th>DonorABO {1,-1,2,0}</th>\n",
              "      <th>RecipientABO {1,-1,2,0}</th>\n",
              "      <th>RecipientRh {1,0}</th>\n",
              "      <th>ABOmatch {0,1}</th>\n",
              "      <th>...</th>\n",
              "      <th>extcGvHD {1,0}</th>\n",
              "      <th>CD34kgx10d6 numeric</th>\n",
              "      <th>CD3dCD34 numeric</th>\n",
              "      <th>CD3dkgx10d8 numeric</th>\n",
              "      <th>Rbodymass numeric</th>\n",
              "      <th>ANCrecovery numeric</th>\n",
              "      <th>PLTrecovery numeric</th>\n",
              "      <th>time_to_aGvHD_III_IV numeric</th>\n",
              "      <th>supervision_time numeric</th>\n",
              "      <th>survival_status numeric</th>\n",
              "    </tr>\n",
              "  </thead>\n",
              "  <tbody>\n",
              "    <tr>\n",
              "      <th>0</th>\n",
              "      <td>1</td>\n",
              "      <td>1</td>\n",
              "      <td>22.830137</td>\n",
              "      <td>0</td>\n",
              "      <td>1</td>\n",
              "      <td>0</td>\n",
              "      <td>1</td>\n",
              "      <td>1</td>\n",
              "      <td>1</td>\n",
              "      <td>0</td>\n",
              "      <td>...</td>\n",
              "      <td>1</td>\n",
              "      <td>7.20</td>\n",
              "      <td>1.33876</td>\n",
              "      <td>5.38</td>\n",
              "      <td>35</td>\n",
              "      <td>19</td>\n",
              "      <td>51</td>\n",
              "      <td>32</td>\n",
              "      <td>999</td>\n",
              "      <td>0</td>\n",
              "    </tr>\n",
              "    <tr>\n",
              "      <th>1</th>\n",
              "      <td>1</td>\n",
              "      <td>0</td>\n",
              "      <td>23.342466</td>\n",
              "      <td>0</td>\n",
              "      <td>1</td>\n",
              "      <td>0</td>\n",
              "      <td>-1</td>\n",
              "      <td>-1</td>\n",
              "      <td>1</td>\n",
              "      <td>0</td>\n",
              "      <td>...</td>\n",
              "      <td>1</td>\n",
              "      <td>4.50</td>\n",
              "      <td>11.078295</td>\n",
              "      <td>0.41</td>\n",
              "      <td>20.6</td>\n",
              "      <td>16</td>\n",
              "      <td>37</td>\n",
              "      <td>1000000</td>\n",
              "      <td>163</td>\n",
              "      <td>1</td>\n",
              "    </tr>\n",
              "    <tr>\n",
              "      <th>2</th>\n",
              "      <td>1</td>\n",
              "      <td>0</td>\n",
              "      <td>26.394521</td>\n",
              "      <td>0</td>\n",
              "      <td>1</td>\n",
              "      <td>0</td>\n",
              "      <td>-1</td>\n",
              "      <td>-1</td>\n",
              "      <td>1</td>\n",
              "      <td>0</td>\n",
              "      <td>...</td>\n",
              "      <td>1</td>\n",
              "      <td>7.94</td>\n",
              "      <td>19.01323</td>\n",
              "      <td>0.42</td>\n",
              "      <td>23.4</td>\n",
              "      <td>23</td>\n",
              "      <td>20</td>\n",
              "      <td>1000000</td>\n",
              "      <td>435</td>\n",
              "      <td>1</td>\n",
              "    </tr>\n",
              "    <tr>\n",
              "      <th>3</th>\n",
              "      <td>0</td>\n",
              "      <td>0</td>\n",
              "      <td>39.684932</td>\n",
              "      <td>1</td>\n",
              "      <td>1</td>\n",
              "      <td>0</td>\n",
              "      <td>1</td>\n",
              "      <td>2</td>\n",
              "      <td>1</td>\n",
              "      <td>1</td>\n",
              "      <td>...</td>\n",
              "      <td>?</td>\n",
              "      <td>4.25</td>\n",
              "      <td>29.481647</td>\n",
              "      <td>0.14</td>\n",
              "      <td>50</td>\n",
              "      <td>23</td>\n",
              "      <td>29</td>\n",
              "      <td>19</td>\n",
              "      <td>53</td>\n",
              "      <td>1</td>\n",
              "    </tr>\n",
              "    <tr>\n",
              "      <th>4</th>\n",
              "      <td>0</td>\n",
              "      <td>1</td>\n",
              "      <td>33.358904</td>\n",
              "      <td>0</td>\n",
              "      <td>0</td>\n",
              "      <td>0</td>\n",
              "      <td>1</td>\n",
              "      <td>2</td>\n",
              "      <td>0</td>\n",
              "      <td>1</td>\n",
              "      <td>...</td>\n",
              "      <td>1</td>\n",
              "      <td>51.85</td>\n",
              "      <td>3.972255</td>\n",
              "      <td>13.05</td>\n",
              "      <td>9</td>\n",
              "      <td>14</td>\n",
              "      <td>14</td>\n",
              "      <td>1000000</td>\n",
              "      <td>2043</td>\n",
              "      <td>0</td>\n",
              "    </tr>\n",
              "  </tbody>\n",
              "</table>\n",
              "<p>5 rows × 37 columns</p>\n",
              "</div>\n",
              "    <div class=\"colab-df-buttons\">\n",
              "\n",
              "  <div class=\"colab-df-container\">\n",
              "    <button class=\"colab-df-convert\" onclick=\"convertToInteractive('df-95082ee0-5a37-43f6-8cef-62e4359d8cc4')\"\n",
              "            title=\"Convert this dataframe to an interactive table.\"\n",
              "            style=\"display:none;\">\n",
              "\n",
              "  <svg xmlns=\"http://www.w3.org/2000/svg\" height=\"24px\" viewBox=\"0 -960 960 960\">\n",
              "    <path d=\"M120-120v-720h720v720H120Zm60-500h600v-160H180v160Zm220 220h160v-160H400v160Zm0 220h160v-160H400v160ZM180-400h160v-160H180v160Zm440 0h160v-160H620v160ZM180-180h160v-160H180v160Zm440 0h160v-160H620v160Z\"/>\n",
              "  </svg>\n",
              "    </button>\n",
              "\n",
              "  <style>\n",
              "    .colab-df-container {\n",
              "      display:flex;\n",
              "      gap: 12px;\n",
              "    }\n",
              "\n",
              "    .colab-df-convert {\n",
              "      background-color: #E8F0FE;\n",
              "      border: none;\n",
              "      border-radius: 50%;\n",
              "      cursor: pointer;\n",
              "      display: none;\n",
              "      fill: #1967D2;\n",
              "      height: 32px;\n",
              "      padding: 0 0 0 0;\n",
              "      width: 32px;\n",
              "    }\n",
              "\n",
              "    .colab-df-convert:hover {\n",
              "      background-color: #E2EBFA;\n",
              "      box-shadow: 0px 1px 2px rgba(60, 64, 67, 0.3), 0px 1px 3px 1px rgba(60, 64, 67, 0.15);\n",
              "      fill: #174EA6;\n",
              "    }\n",
              "\n",
              "    .colab-df-buttons div {\n",
              "      margin-bottom: 4px;\n",
              "    }\n",
              "\n",
              "    [theme=dark] .colab-df-convert {\n",
              "      background-color: #3B4455;\n",
              "      fill: #D2E3FC;\n",
              "    }\n",
              "\n",
              "    [theme=dark] .colab-df-convert:hover {\n",
              "      background-color: #434B5C;\n",
              "      box-shadow: 0px 1px 3px 1px rgba(0, 0, 0, 0.15);\n",
              "      filter: drop-shadow(0px 1px 2px rgba(0, 0, 0, 0.3));\n",
              "      fill: #FFFFFF;\n",
              "    }\n",
              "  </style>\n",
              "\n",
              "    <script>\n",
              "      const buttonEl =\n",
              "        document.querySelector('#df-95082ee0-5a37-43f6-8cef-62e4359d8cc4 button.colab-df-convert');\n",
              "      buttonEl.style.display =\n",
              "        google.colab.kernel.accessAllowed ? 'block' : 'none';\n",
              "\n",
              "      async function convertToInteractive(key) {\n",
              "        const element = document.querySelector('#df-95082ee0-5a37-43f6-8cef-62e4359d8cc4');\n",
              "        const dataTable =\n",
              "          await google.colab.kernel.invokeFunction('convertToInteractive',\n",
              "                                                    [key], {});\n",
              "        if (!dataTable) return;\n",
              "\n",
              "        const docLinkHtml = 'Like what you see? Visit the ' +\n",
              "          '<a target=\"_blank\" href=https://colab.research.google.com/notebooks/data_table.ipynb>data table notebook</a>'\n",
              "          + ' to learn more about interactive tables.';\n",
              "        element.innerHTML = '';\n",
              "        dataTable['output_type'] = 'display_data';\n",
              "        await google.colab.output.renderOutput(dataTable, element);\n",
              "        const docLink = document.createElement('div');\n",
              "        docLink.innerHTML = docLinkHtml;\n",
              "        element.appendChild(docLink);\n",
              "      }\n",
              "    </script>\n",
              "  </div>\n",
              "\n",
              "\n",
              "<div id=\"df-e6943390-4e21-4127-83d5-81a8b23aa2e4\">\n",
              "  <button class=\"colab-df-quickchart\" onclick=\"quickchart('df-e6943390-4e21-4127-83d5-81a8b23aa2e4')\"\n",
              "            title=\"Suggest charts\"\n",
              "            style=\"display:none;\">\n",
              "\n",
              "<svg xmlns=\"http://www.w3.org/2000/svg\" height=\"24px\"viewBox=\"0 0 24 24\"\n",
              "     width=\"24px\">\n",
              "    <g>\n",
              "        <path d=\"M19 3H5c-1.1 0-2 .9-2 2v14c0 1.1.9 2 2 2h14c1.1 0 2-.9 2-2V5c0-1.1-.9-2-2-2zM9 17H7v-7h2v7zm4 0h-2V7h2v10zm4 0h-2v-4h2v4z\"/>\n",
              "    </g>\n",
              "</svg>\n",
              "  </button>\n",
              "\n",
              "<style>\n",
              "  .colab-df-quickchart {\n",
              "      --bg-color: #E8F0FE;\n",
              "      --fill-color: #1967D2;\n",
              "      --hover-bg-color: #E2EBFA;\n",
              "      --hover-fill-color: #174EA6;\n",
              "      --disabled-fill-color: #AAA;\n",
              "      --disabled-bg-color: #DDD;\n",
              "  }\n",
              "\n",
              "  [theme=dark] .colab-df-quickchart {\n",
              "      --bg-color: #3B4455;\n",
              "      --fill-color: #D2E3FC;\n",
              "      --hover-bg-color: #434B5C;\n",
              "      --hover-fill-color: #FFFFFF;\n",
              "      --disabled-bg-color: #3B4455;\n",
              "      --disabled-fill-color: #666;\n",
              "  }\n",
              "\n",
              "  .colab-df-quickchart {\n",
              "    background-color: var(--bg-color);\n",
              "    border: none;\n",
              "    border-radius: 50%;\n",
              "    cursor: pointer;\n",
              "    display: none;\n",
              "    fill: var(--fill-color);\n",
              "    height: 32px;\n",
              "    padding: 0;\n",
              "    width: 32px;\n",
              "  }\n",
              "\n",
              "  .colab-df-quickchart:hover {\n",
              "    background-color: var(--hover-bg-color);\n",
              "    box-shadow: 0 1px 2px rgba(60, 64, 67, 0.3), 0 1px 3px 1px rgba(60, 64, 67, 0.15);\n",
              "    fill: var(--button-hover-fill-color);\n",
              "  }\n",
              "\n",
              "  .colab-df-quickchart-complete:disabled,\n",
              "  .colab-df-quickchart-complete:disabled:hover {\n",
              "    background-color: var(--disabled-bg-color);\n",
              "    fill: var(--disabled-fill-color);\n",
              "    box-shadow: none;\n",
              "  }\n",
              "\n",
              "  .colab-df-spinner {\n",
              "    border: 2px solid var(--fill-color);\n",
              "    border-color: transparent;\n",
              "    border-bottom-color: var(--fill-color);\n",
              "    animation:\n",
              "      spin 1s steps(1) infinite;\n",
              "  }\n",
              "\n",
              "  @keyframes spin {\n",
              "    0% {\n",
              "      border-color: transparent;\n",
              "      border-bottom-color: var(--fill-color);\n",
              "      border-left-color: var(--fill-color);\n",
              "    }\n",
              "    20% {\n",
              "      border-color: transparent;\n",
              "      border-left-color: var(--fill-color);\n",
              "      border-top-color: var(--fill-color);\n",
              "    }\n",
              "    30% {\n",
              "      border-color: transparent;\n",
              "      border-left-color: var(--fill-color);\n",
              "      border-top-color: var(--fill-color);\n",
              "      border-right-color: var(--fill-color);\n",
              "    }\n",
              "    40% {\n",
              "      border-color: transparent;\n",
              "      border-right-color: var(--fill-color);\n",
              "      border-top-color: var(--fill-color);\n",
              "    }\n",
              "    60% {\n",
              "      border-color: transparent;\n",
              "      border-right-color: var(--fill-color);\n",
              "    }\n",
              "    80% {\n",
              "      border-color: transparent;\n",
              "      border-right-color: var(--fill-color);\n",
              "      border-bottom-color: var(--fill-color);\n",
              "    }\n",
              "    90% {\n",
              "      border-color: transparent;\n",
              "      border-bottom-color: var(--fill-color);\n",
              "    }\n",
              "  }\n",
              "</style>\n",
              "\n",
              "  <script>\n",
              "    async function quickchart(key) {\n",
              "      const quickchartButtonEl =\n",
              "        document.querySelector('#' + key + ' button');\n",
              "      quickchartButtonEl.disabled = true;  // To prevent multiple clicks.\n",
              "      quickchartButtonEl.classList.add('colab-df-spinner');\n",
              "      try {\n",
              "        const charts = await google.colab.kernel.invokeFunction(\n",
              "            'suggestCharts', [key], {});\n",
              "      } catch (error) {\n",
              "        console.error('Error during call to suggestCharts:', error);\n",
              "      }\n",
              "      quickchartButtonEl.classList.remove('colab-df-spinner');\n",
              "      quickchartButtonEl.classList.add('colab-df-quickchart-complete');\n",
              "    }\n",
              "    (() => {\n",
              "      let quickchartButtonEl =\n",
              "        document.querySelector('#df-e6943390-4e21-4127-83d5-81a8b23aa2e4 button');\n",
              "      quickchartButtonEl.style.display =\n",
              "        google.colab.kernel.accessAllowed ? 'block' : 'none';\n",
              "    })();\n",
              "  </script>\n",
              "</div>\n",
              "\n",
              "    </div>\n",
              "  </div>\n"
            ],
            "application/vnd.google.colaboratory.intrinsic+json": {
              "type": "dataframe",
              "variable_name": "df"
            }
          },
          "metadata": {},
          "execution_count": 4
        }
      ],
      "source": [
        "df = pd.read_csv(\"https://drive.google.com/uc?export=download&id=1-u7q9mxS6UptXMP_2bCVwGDw0f9AVyq8\", names = [\"Recipientgender {1,0}\", \"Stemcellsource {1,0}\",\n",
        "\"Donorage numeric\",\n",
        " \"Donorage35 {0,1}\",\n",
        " \"IIIV {1,0}\",\n",
        " \"Gendermatch {0,1}\",\n",
        " \"DonorABO {1,-1,2,0}\",\n",
        " \"RecipientABO {1,-1,2,0}\",\n",
        " \"RecipientRh {1,0}\",\n",
        " \"ABOmatch {0,1}\",\n",
        " \"CMVstatus {3,2,1,0}\",\n",
        " \"DonorCMV {1,0}\",\n",
        " \"RecipientCMV {1,0}\",\n",
        " \"Disease {ALL,AML,chronic,nonmalignant,lymphoma}\",\n",
        " \"Riskgroup {1,0}\",\n",
        " \"Txpostrelapse {0,1}\",\n",
        " \"Diseasegroup {1,0}\",\n",
        " \"HLAmatch {0,1,3,2}\",\n",
        " \"HLAmismatch {0,1}\",\n",
        " \"Antigen {-1,1,0,2}\",\n",
        " \"Alel {-1,0,2,1,3}\",\n",
        "\"HLAgrI {0,1,7,3,2,4,5}\",\n",
        " \"Recipientage numeric\",\n",
        " \"Recipientage10 {0,1}\",\n",
        " \"Recipientageint {0,1,2}\",\n",
        " \"Relapse {0,1}\",\n",
        " \"aGvHDIIIIV {0,1}\",\n",
        " \"extcGvHD {1,0}\",\n",
        " \"CD34kgx10d6 numeric\",\n",
        " \"CD3dCD34 numeric\",\n",
        " \"CD3dkgx10d8 numeric\",\n",
        " \"Rbodymass numeric\",\n",
        " \"ANCrecovery numeric\",\n",
        " \"PLTrecovery numeric\",\n",
        " \"time_to_aGvHD_III_IV numeric\",\n",
        " \"supervision_time numeric\",\n",
        " \"survival_status numeric\"\n",
        "])\n",
        "\n",
        "df.head()"
      ]
    },
    {
      "cell_type": "code",
      "execution_count": null,
      "metadata": {
        "id": "_X_aBlXwaBZM",
        "colab": {
          "base_uri": "https://localhost:8080/"
        },
        "outputId": "bf21f85e-a650-4086-86ae-e232ff97cf82"
      },
      "outputs": [
        {
          "output_type": "stream",
          "name": "stdout",
          "text": [
            "<class 'pandas.core.frame.DataFrame'>\n",
            "RangeIndex: 187 entries, 0 to 186\n",
            "Data columns (total 37 columns):\n",
            " #   Column                                           Non-Null Count  Dtype  \n",
            "---  ------                                           --------------  -----  \n",
            " 0   Recipientgender {1,0}                            187 non-null    int64  \n",
            " 1   Stemcellsource {1,0}                             187 non-null    int64  \n",
            " 2   Donorage numeric                                 187 non-null    float64\n",
            " 3   Donorage35 {0,1}                                 187 non-null    int64  \n",
            " 4   IIIV {1,0}                                       187 non-null    int64  \n",
            " 5   Gendermatch {0,1}                                187 non-null    int64  \n",
            " 6   DonorABO {1,-1,2,0}                              187 non-null    int64  \n",
            " 7   RecipientABO {1,-1,2,0}                          187 non-null    object \n",
            " 8   RecipientRh {1,0}                                187 non-null    object \n",
            " 9   ABOmatch {0,1}                                   187 non-null    object \n",
            " 10  CMVstatus {3,2,1,0}                              187 non-null    object \n",
            " 11  DonorCMV {1,0}                                   187 non-null    object \n",
            " 12  RecipientCMV {1,0}                               187 non-null    object \n",
            " 13  Disease {ALL,AML,chronic,nonmalignant,lymphoma}  187 non-null    object \n",
            " 14  Riskgroup {1,0}                                  187 non-null    int64  \n",
            " 15  Txpostrelapse {0,1}                              187 non-null    int64  \n",
            " 16  Diseasegroup {1,0}                               187 non-null    int64  \n",
            " 17  HLAmatch {0,1,3,2}                               187 non-null    int64  \n",
            " 18  HLAmismatch {0,1}                                187 non-null    int64  \n",
            " 19  Antigen {-1,1,0,2}                               187 non-null    object \n",
            " 20  Alel {-1,0,2,1,3}                                187 non-null    object \n",
            " 21  HLAgrI {0,1,7,3,2,4,5}                           187 non-null    int64  \n",
            " 22  Recipientage numeric                             187 non-null    float64\n",
            " 23  Recipientage10 {0,1}                             187 non-null    int64  \n",
            " 24  Recipientageint {0,1,2}                          187 non-null    int64  \n",
            " 25  Relapse {0,1}                                    187 non-null    int64  \n",
            " 26  aGvHDIIIIV {0,1}                                 187 non-null    int64  \n",
            " 27  extcGvHD {1,0}                                   187 non-null    object \n",
            " 28  CD34kgx10d6 numeric                              187 non-null    float64\n",
            " 29  CD3dCD34 numeric                                 187 non-null    object \n",
            " 30  CD3dkgx10d8 numeric                              187 non-null    object \n",
            " 31  Rbodymass numeric                                187 non-null    object \n",
            " 32  ANCrecovery numeric                              187 non-null    int64  \n",
            " 33  PLTrecovery numeric                              187 non-null    int64  \n",
            " 34  time_to_aGvHD_III_IV numeric                     187 non-null    int64  \n",
            " 35  supervision_time numeric                         187 non-null    int64  \n",
            " 36  survival_status numeric                          187 non-null    int64  \n",
            "dtypes: float64(3), int64(21), object(13)\n",
            "memory usage: 54.2+ KB\n"
          ]
        }
      ],
      "source": [
        "df.info()\n"
      ]
    },
    {
      "cell_type": "code",
      "execution_count": null,
      "metadata": {
        "id": "JqVXuM-WEClX"
      },
      "outputs": [],
      "source": [
        "df = df.apply (pd.to_numeric, errors='coerce')\n"
      ]
    },
    {
      "cell_type": "code",
      "execution_count": null,
      "metadata": {
        "id": "_LQfSOuYh80P",
        "colab": {
          "base_uri": "https://localhost:8080/",
          "height": 114
        },
        "outputId": "41d66579-01d3-4c7e-f817-eb75beb1ba6a"
      },
      "outputs": [
        {
          "output_type": "execute_result",
          "data": {
            "text/plain": [
              "Empty DataFrame\n",
              "Columns: [Recipientgender {1,0}, Stemcellsource {1,0}, Donorage numeric, Donorage35 {0,1}, IIIV {1,0}, Gendermatch {0,1}, DonorABO {1,-1,2,0}, RecipientABO {1,-1,2,0}, RecipientRh {1,0}, ABOmatch {0,1}, CMVstatus {3,2,1,0}, DonorCMV {1,0}, RecipientCMV {1,0}, Disease {ALL,AML,chronic,nonmalignant,lymphoma}, Riskgroup {1,0}, Txpostrelapse {0,1}, Diseasegroup {1,0}, HLAmatch {0,1,3,2}, HLAmismatch {0,1}, Antigen {-1,1,0,2}, Alel {-1,0,2,1,3}, HLAgrI {0,1,7,3,2,4,5}, Recipientage numeric, Recipientage10 {0,1}, Recipientageint {0,1,2}, Relapse {0,1}, aGvHDIIIIV {0,1}, extcGvHD {1,0}, CD34kgx10d6 numeric, CD3dCD34 numeric, CD3dkgx10d8 numeric, Rbodymass numeric, ANCrecovery numeric, PLTrecovery numeric, time_to_aGvHD_III_IV numeric, supervision_time numeric, survival_status numeric]\n",
              "Index: []\n",
              "\n",
              "[0 rows x 37 columns]"
            ],
            "text/html": [
              "\n",
              "  <div id=\"df-a4e80b8a-f3df-4c7a-8005-bf89c4c41148\" class=\"colab-df-container\">\n",
              "    <div>\n",
              "<style scoped>\n",
              "    .dataframe tbody tr th:only-of-type {\n",
              "        vertical-align: middle;\n",
              "    }\n",
              "\n",
              "    .dataframe tbody tr th {\n",
              "        vertical-align: top;\n",
              "    }\n",
              "\n",
              "    .dataframe thead th {\n",
              "        text-align: right;\n",
              "    }\n",
              "</style>\n",
              "<table border=\"1\" class=\"dataframe\">\n",
              "  <thead>\n",
              "    <tr style=\"text-align: right;\">\n",
              "      <th></th>\n",
              "      <th>Recipientgender {1,0}</th>\n",
              "      <th>Stemcellsource {1,0}</th>\n",
              "      <th>Donorage numeric</th>\n",
              "      <th>Donorage35 {0,1}</th>\n",
              "      <th>IIIV {1,0}</th>\n",
              "      <th>Gendermatch {0,1}</th>\n",
              "      <th>DonorABO {1,-1,2,0}</th>\n",
              "      <th>RecipientABO {1,-1,2,0}</th>\n",
              "      <th>RecipientRh {1,0}</th>\n",
              "      <th>ABOmatch {0,1}</th>\n",
              "      <th>...</th>\n",
              "      <th>extcGvHD {1,0}</th>\n",
              "      <th>CD34kgx10d6 numeric</th>\n",
              "      <th>CD3dCD34 numeric</th>\n",
              "      <th>CD3dkgx10d8 numeric</th>\n",
              "      <th>Rbodymass numeric</th>\n",
              "      <th>ANCrecovery numeric</th>\n",
              "      <th>PLTrecovery numeric</th>\n",
              "      <th>time_to_aGvHD_III_IV numeric</th>\n",
              "      <th>supervision_time numeric</th>\n",
              "      <th>survival_status numeric</th>\n",
              "    </tr>\n",
              "  </thead>\n",
              "  <tbody>\n",
              "  </tbody>\n",
              "</table>\n",
              "<p>0 rows × 37 columns</p>\n",
              "</div>\n",
              "    <div class=\"colab-df-buttons\">\n",
              "\n",
              "  <div class=\"colab-df-container\">\n",
              "    <button class=\"colab-df-convert\" onclick=\"convertToInteractive('df-a4e80b8a-f3df-4c7a-8005-bf89c4c41148')\"\n",
              "            title=\"Convert this dataframe to an interactive table.\"\n",
              "            style=\"display:none;\">\n",
              "\n",
              "  <svg xmlns=\"http://www.w3.org/2000/svg\" height=\"24px\" viewBox=\"0 -960 960 960\">\n",
              "    <path d=\"M120-120v-720h720v720H120Zm60-500h600v-160H180v160Zm220 220h160v-160H400v160Zm0 220h160v-160H400v160ZM180-400h160v-160H180v160Zm440 0h160v-160H620v160ZM180-180h160v-160H180v160Zm440 0h160v-160H620v160Z\"/>\n",
              "  </svg>\n",
              "    </button>\n",
              "\n",
              "  <style>\n",
              "    .colab-df-container {\n",
              "      display:flex;\n",
              "      gap: 12px;\n",
              "    }\n",
              "\n",
              "    .colab-df-convert {\n",
              "      background-color: #E8F0FE;\n",
              "      border: none;\n",
              "      border-radius: 50%;\n",
              "      cursor: pointer;\n",
              "      display: none;\n",
              "      fill: #1967D2;\n",
              "      height: 32px;\n",
              "      padding: 0 0 0 0;\n",
              "      width: 32px;\n",
              "    }\n",
              "\n",
              "    .colab-df-convert:hover {\n",
              "      background-color: #E2EBFA;\n",
              "      box-shadow: 0px 1px 2px rgba(60, 64, 67, 0.3), 0px 1px 3px 1px rgba(60, 64, 67, 0.15);\n",
              "      fill: #174EA6;\n",
              "    }\n",
              "\n",
              "    .colab-df-buttons div {\n",
              "      margin-bottom: 4px;\n",
              "    }\n",
              "\n",
              "    [theme=dark] .colab-df-convert {\n",
              "      background-color: #3B4455;\n",
              "      fill: #D2E3FC;\n",
              "    }\n",
              "\n",
              "    [theme=dark] .colab-df-convert:hover {\n",
              "      background-color: #434B5C;\n",
              "      box-shadow: 0px 1px 3px 1px rgba(0, 0, 0, 0.15);\n",
              "      filter: drop-shadow(0px 1px 2px rgba(0, 0, 0, 0.3));\n",
              "      fill: #FFFFFF;\n",
              "    }\n",
              "  </style>\n",
              "\n",
              "    <script>\n",
              "      const buttonEl =\n",
              "        document.querySelector('#df-a4e80b8a-f3df-4c7a-8005-bf89c4c41148 button.colab-df-convert');\n",
              "      buttonEl.style.display =\n",
              "        google.colab.kernel.accessAllowed ? 'block' : 'none';\n",
              "\n",
              "      async function convertToInteractive(key) {\n",
              "        const element = document.querySelector('#df-a4e80b8a-f3df-4c7a-8005-bf89c4c41148');\n",
              "        const dataTable =\n",
              "          await google.colab.kernel.invokeFunction('convertToInteractive',\n",
              "                                                    [key], {});\n",
              "        if (!dataTable) return;\n",
              "\n",
              "        const docLinkHtml = 'Like what you see? Visit the ' +\n",
              "          '<a target=\"_blank\" href=https://colab.research.google.com/notebooks/data_table.ipynb>data table notebook</a>'\n",
              "          + ' to learn more about interactive tables.';\n",
              "        element.innerHTML = '';\n",
              "        dataTable['output_type'] = 'display_data';\n",
              "        await google.colab.output.renderOutput(dataTable, element);\n",
              "        const docLink = document.createElement('div');\n",
              "        docLink.innerHTML = docLinkHtml;\n",
              "        element.appendChild(docLink);\n",
              "      }\n",
              "    </script>\n",
              "  </div>\n",
              "\n",
              "\n",
              "    </div>\n",
              "  </div>\n"
            ],
            "application/vnd.google.colaboratory.intrinsic+json": {
              "type": "dataframe"
            }
          },
          "metadata": {},
          "execution_count": 7
        }
      ],
      "source": [
        "df.dropna(subset = [\"DonorABO {1,-1,2,0}\", \"RecipientABO {1,-1,2,0}\", \"Disease {ALL,AML,chronic,nonmalignant,lymphoma}\"])"
      ]
    },
    {
      "cell_type": "code",
      "execution_count": null,
      "metadata": {
        "id": "d9nAA2kRQRkb",
        "colab": {
          "base_uri": "https://localhost:8080/"
        },
        "outputId": "3deab734-9a3e-4b24-e5c1-7f1382ab3309"
      },
      "outputs": [
        {
          "output_type": "execute_result",
          "data": {
            "text/plain": [
              "     Recipientgender {1,0}  Stemcellsource {1,0}  Donorage numeric  \\\n",
              "0                        1                     1         22.830137   \n",
              "1                        1                     0         23.342466   \n",
              "2                        1                     0         26.394521   \n",
              "3                        0                     0         39.684932   \n",
              "4                        0                     1         33.358904   \n",
              "..                     ...                   ...               ...   \n",
              "182                      1                     1         37.575342   \n",
              "183                      0                     1         22.895890   \n",
              "184                      0                     1         27.347945   \n",
              "185                      1                     1         27.780822   \n",
              "186                      1                     1         55.553425   \n",
              "\n",
              "     Donorage35 {0,1}  IIIV {1,0}  Gendermatch {0,1}  DonorABO {1,-1,2,0}  \\\n",
              "0                   0           1                  0                    1   \n",
              "1                   0           1                  0                   -1   \n",
              "2                   0           1                  0                   -1   \n",
              "3                   1           1                  0                    1   \n",
              "4                   0           0                  0                    1   \n",
              "..                ...         ...                ...                  ...   \n",
              "182                 1           1                  0                    1   \n",
              "183                 0           0                  0                    1   \n",
              "184                 0           1                  0                    1   \n",
              "185                 0           1                  0                    1   \n",
              "186                 1           1                  0                    1   \n",
              "\n",
              "     RecipientABO {1,-1,2,0}  RecipientRh {1,0}  ABOmatch {0,1}  ...  \\\n",
              "0                        1.0                1.0             0.0  ...   \n",
              "1                       -1.0                1.0             0.0  ...   \n",
              "2                       -1.0                1.0             0.0  ...   \n",
              "3                        2.0                1.0             1.0  ...   \n",
              "4                        2.0                0.0             1.0  ...   \n",
              "..                       ...                ...             ...  ...   \n",
              "182                      1.0                0.0             0.0  ...   \n",
              "183                      0.0                1.0             1.0  ...   \n",
              "184                     -1.0                1.0             1.0  ...   \n",
              "185                      0.0                1.0             1.0  ...   \n",
              "186                      2.0                1.0             1.0  ...   \n",
              "\n",
              "     supervision_time numeric  survival_status numeric  DonorABO_-1  \\\n",
              "0                         999                        0            0   \n",
              "1                         163                        1            1   \n",
              "2                         435                        1            1   \n",
              "3                          53                        1            0   \n",
              "4                        2043                        0            0   \n",
              "..                        ...                      ...          ...   \n",
              "182                       385                        1            0   \n",
              "183                       634                        1            0   \n",
              "184                      1895                        0            0   \n",
              "185                       382                        1            0   \n",
              "186                      1109                        0            0   \n",
              "\n",
              "     DonorABO_0  DonorABO_1  DonorABO_2  RecipientABO_-1.0  RecipientABO_0.0  \\\n",
              "0             0           1           0                  0                 0   \n",
              "1             0           0           0                  1                 0   \n",
              "2             0           0           0                  1                 0   \n",
              "3             0           1           0                  0                 0   \n",
              "4             0           1           0                  0                 0   \n",
              "..          ...         ...         ...                ...               ...   \n",
              "182           0           1           0                  0                 0   \n",
              "183           0           1           0                  0                 1   \n",
              "184           0           1           0                  1                 0   \n",
              "185           0           1           0                  0                 1   \n",
              "186           0           1           0                  0                 0   \n",
              "\n",
              "     RecipientABO_1.0  RecipientABO_2.0  \n",
              "0                   1                 0  \n",
              "1                   0                 0  \n",
              "2                   0                 0  \n",
              "3                   0                 1  \n",
              "4                   0                 1  \n",
              "..                ...               ...  \n",
              "182                 1                 0  \n",
              "183                 0                 0  \n",
              "184                 0                 0  \n",
              "185                 0                 0  \n",
              "186                 0                 1  \n",
              "\n",
              "[187 rows x 45 columns]"
            ],
            "text/html": [
              "\n",
              "  <div id=\"df-644b6dc9-c5bc-4063-aceb-9d4b02090db0\">\n",
              "    <div class=\"colab-df-container\">\n",
              "      <div>\n",
              "<style scoped>\n",
              "    .dataframe tbody tr th:only-of-type {\n",
              "        vertical-align: middle;\n",
              "    }\n",
              "\n",
              "    .dataframe tbody tr th {\n",
              "        vertical-align: top;\n",
              "    }\n",
              "\n",
              "    .dataframe thead th {\n",
              "        text-align: right;\n",
              "    }\n",
              "</style>\n",
              "<table border=\"1\" class=\"dataframe\">\n",
              "  <thead>\n",
              "    <tr style=\"text-align: right;\">\n",
              "      <th></th>\n",
              "      <th>Recipientgender {1,0}</th>\n",
              "      <th>Stemcellsource {1,0}</th>\n",
              "      <th>Donorage numeric</th>\n",
              "      <th>Donorage35 {0,1}</th>\n",
              "      <th>IIIV {1,0}</th>\n",
              "      <th>Gendermatch {0,1}</th>\n",
              "      <th>DonorABO {1,-1,2,0}</th>\n",
              "      <th>RecipientABO {1,-1,2,0}</th>\n",
              "      <th>RecipientRh {1,0}</th>\n",
              "      <th>ABOmatch {0,1}</th>\n",
              "      <th>...</th>\n",
              "      <th>supervision_time numeric</th>\n",
              "      <th>survival_status numeric</th>\n",
              "      <th>DonorABO_-1</th>\n",
              "      <th>DonorABO_0</th>\n",
              "      <th>DonorABO_1</th>\n",
              "      <th>DonorABO_2</th>\n",
              "      <th>RecipientABO_-1.0</th>\n",
              "      <th>RecipientABO_0.0</th>\n",
              "      <th>RecipientABO_1.0</th>\n",
              "      <th>RecipientABO_2.0</th>\n",
              "    </tr>\n",
              "  </thead>\n",
              "  <tbody>\n",
              "    <tr>\n",
              "      <th>0</th>\n",
              "      <td>1</td>\n",
              "      <td>1</td>\n",
              "      <td>22.830137</td>\n",
              "      <td>0</td>\n",
              "      <td>1</td>\n",
              "      <td>0</td>\n",
              "      <td>1</td>\n",
              "      <td>1.0</td>\n",
              "      <td>1.0</td>\n",
              "      <td>0.0</td>\n",
              "      <td>...</td>\n",
              "      <td>999</td>\n",
              "      <td>0</td>\n",
              "      <td>0</td>\n",
              "      <td>0</td>\n",
              "      <td>1</td>\n",
              "      <td>0</td>\n",
              "      <td>0</td>\n",
              "      <td>0</td>\n",
              "      <td>1</td>\n",
              "      <td>0</td>\n",
              "    </tr>\n",
              "    <tr>\n",
              "      <th>1</th>\n",
              "      <td>1</td>\n",
              "      <td>0</td>\n",
              "      <td>23.342466</td>\n",
              "      <td>0</td>\n",
              "      <td>1</td>\n",
              "      <td>0</td>\n",
              "      <td>-1</td>\n",
              "      <td>-1.0</td>\n",
              "      <td>1.0</td>\n",
              "      <td>0.0</td>\n",
              "      <td>...</td>\n",
              "      <td>163</td>\n",
              "      <td>1</td>\n",
              "      <td>1</td>\n",
              "      <td>0</td>\n",
              "      <td>0</td>\n",
              "      <td>0</td>\n",
              "      <td>1</td>\n",
              "      <td>0</td>\n",
              "      <td>0</td>\n",
              "      <td>0</td>\n",
              "    </tr>\n",
              "    <tr>\n",
              "      <th>2</th>\n",
              "      <td>1</td>\n",
              "      <td>0</td>\n",
              "      <td>26.394521</td>\n",
              "      <td>0</td>\n",
              "      <td>1</td>\n",
              "      <td>0</td>\n",
              "      <td>-1</td>\n",
              "      <td>-1.0</td>\n",
              "      <td>1.0</td>\n",
              "      <td>0.0</td>\n",
              "      <td>...</td>\n",
              "      <td>435</td>\n",
              "      <td>1</td>\n",
              "      <td>1</td>\n",
              "      <td>0</td>\n",
              "      <td>0</td>\n",
              "      <td>0</td>\n",
              "      <td>1</td>\n",
              "      <td>0</td>\n",
              "      <td>0</td>\n",
              "      <td>0</td>\n",
              "    </tr>\n",
              "    <tr>\n",
              "      <th>3</th>\n",
              "      <td>0</td>\n",
              "      <td>0</td>\n",
              "      <td>39.684932</td>\n",
              "      <td>1</td>\n",
              "      <td>1</td>\n",
              "      <td>0</td>\n",
              "      <td>1</td>\n",
              "      <td>2.0</td>\n",
              "      <td>1.0</td>\n",
              "      <td>1.0</td>\n",
              "      <td>...</td>\n",
              "      <td>53</td>\n",
              "      <td>1</td>\n",
              "      <td>0</td>\n",
              "      <td>0</td>\n",
              "      <td>1</td>\n",
              "      <td>0</td>\n",
              "      <td>0</td>\n",
              "      <td>0</td>\n",
              "      <td>0</td>\n",
              "      <td>1</td>\n",
              "    </tr>\n",
              "    <tr>\n",
              "      <th>4</th>\n",
              "      <td>0</td>\n",
              "      <td>1</td>\n",
              "      <td>33.358904</td>\n",
              "      <td>0</td>\n",
              "      <td>0</td>\n",
              "      <td>0</td>\n",
              "      <td>1</td>\n",
              "      <td>2.0</td>\n",
              "      <td>0.0</td>\n",
              "      <td>1.0</td>\n",
              "      <td>...</td>\n",
              "      <td>2043</td>\n",
              "      <td>0</td>\n",
              "      <td>0</td>\n",
              "      <td>0</td>\n",
              "      <td>1</td>\n",
              "      <td>0</td>\n",
              "      <td>0</td>\n",
              "      <td>0</td>\n",
              "      <td>0</td>\n",
              "      <td>1</td>\n",
              "    </tr>\n",
              "    <tr>\n",
              "      <th>...</th>\n",
              "      <td>...</td>\n",
              "      <td>...</td>\n",
              "      <td>...</td>\n",
              "      <td>...</td>\n",
              "      <td>...</td>\n",
              "      <td>...</td>\n",
              "      <td>...</td>\n",
              "      <td>...</td>\n",
              "      <td>...</td>\n",
              "      <td>...</td>\n",
              "      <td>...</td>\n",
              "      <td>...</td>\n",
              "      <td>...</td>\n",
              "      <td>...</td>\n",
              "      <td>...</td>\n",
              "      <td>...</td>\n",
              "      <td>...</td>\n",
              "      <td>...</td>\n",
              "      <td>...</td>\n",
              "      <td>...</td>\n",
              "      <td>...</td>\n",
              "    </tr>\n",
              "    <tr>\n",
              "      <th>182</th>\n",
              "      <td>1</td>\n",
              "      <td>1</td>\n",
              "      <td>37.575342</td>\n",
              "      <td>1</td>\n",
              "      <td>1</td>\n",
              "      <td>0</td>\n",
              "      <td>1</td>\n",
              "      <td>1.0</td>\n",
              "      <td>0.0</td>\n",
              "      <td>0.0</td>\n",
              "      <td>...</td>\n",
              "      <td>385</td>\n",
              "      <td>1</td>\n",
              "      <td>0</td>\n",
              "      <td>0</td>\n",
              "      <td>1</td>\n",
              "      <td>0</td>\n",
              "      <td>0</td>\n",
              "      <td>0</td>\n",
              "      <td>1</td>\n",
              "      <td>0</td>\n",
              "    </tr>\n",
              "    <tr>\n",
              "      <th>183</th>\n",
              "      <td>0</td>\n",
              "      <td>1</td>\n",
              "      <td>22.895890</td>\n",
              "      <td>0</td>\n",
              "      <td>0</td>\n",
              "      <td>0</td>\n",
              "      <td>1</td>\n",
              "      <td>0.0</td>\n",
              "      <td>1.0</td>\n",
              "      <td>1.0</td>\n",
              "      <td>...</td>\n",
              "      <td>634</td>\n",
              "      <td>1</td>\n",
              "      <td>0</td>\n",
              "      <td>0</td>\n",
              "      <td>1</td>\n",
              "      <td>0</td>\n",
              "      <td>0</td>\n",
              "      <td>1</td>\n",
              "      <td>0</td>\n",
              "      <td>0</td>\n",
              "    </tr>\n",
              "    <tr>\n",
              "      <th>184</th>\n",
              "      <td>0</td>\n",
              "      <td>1</td>\n",
              "      <td>27.347945</td>\n",
              "      <td>0</td>\n",
              "      <td>1</td>\n",
              "      <td>0</td>\n",
              "      <td>1</td>\n",
              "      <td>-1.0</td>\n",
              "      <td>1.0</td>\n",
              "      <td>1.0</td>\n",
              "      <td>...</td>\n",
              "      <td>1895</td>\n",
              "      <td>0</td>\n",
              "      <td>0</td>\n",
              "      <td>0</td>\n",
              "      <td>1</td>\n",
              "      <td>0</td>\n",
              "      <td>1</td>\n",
              "      <td>0</td>\n",
              "      <td>0</td>\n",
              "      <td>0</td>\n",
              "    </tr>\n",
              "    <tr>\n",
              "      <th>185</th>\n",
              "      <td>1</td>\n",
              "      <td>1</td>\n",
              "      <td>27.780822</td>\n",
              "      <td>0</td>\n",
              "      <td>1</td>\n",
              "      <td>0</td>\n",
              "      <td>1</td>\n",
              "      <td>0.0</td>\n",
              "      <td>1.0</td>\n",
              "      <td>1.0</td>\n",
              "      <td>...</td>\n",
              "      <td>382</td>\n",
              "      <td>1</td>\n",
              "      <td>0</td>\n",
              "      <td>0</td>\n",
              "      <td>1</td>\n",
              "      <td>0</td>\n",
              "      <td>0</td>\n",
              "      <td>1</td>\n",
              "      <td>0</td>\n",
              "      <td>0</td>\n",
              "    </tr>\n",
              "    <tr>\n",
              "      <th>186</th>\n",
              "      <td>1</td>\n",
              "      <td>1</td>\n",
              "      <td>55.553425</td>\n",
              "      <td>1</td>\n",
              "      <td>1</td>\n",
              "      <td>0</td>\n",
              "      <td>1</td>\n",
              "      <td>2.0</td>\n",
              "      <td>1.0</td>\n",
              "      <td>1.0</td>\n",
              "      <td>...</td>\n",
              "      <td>1109</td>\n",
              "      <td>0</td>\n",
              "      <td>0</td>\n",
              "      <td>0</td>\n",
              "      <td>1</td>\n",
              "      <td>0</td>\n",
              "      <td>0</td>\n",
              "      <td>0</td>\n",
              "      <td>0</td>\n",
              "      <td>1</td>\n",
              "    </tr>\n",
              "  </tbody>\n",
              "</table>\n",
              "<p>187 rows × 45 columns</p>\n",
              "</div>\n",
              "      <button class=\"colab-df-convert\" onclick=\"convertToInteractive('df-644b6dc9-c5bc-4063-aceb-9d4b02090db0')\"\n",
              "              title=\"Convert this dataframe to an interactive table.\"\n",
              "              style=\"display:none;\">\n",
              "        \n",
              "  <svg xmlns=\"http://www.w3.org/2000/svg\" height=\"24px\"viewBox=\"0 0 24 24\"\n",
              "       width=\"24px\">\n",
              "    <path d=\"M0 0h24v24H0V0z\" fill=\"none\"/>\n",
              "    <path d=\"M18.56 5.44l.94 2.06.94-2.06 2.06-.94-2.06-.94-.94-2.06-.94 2.06-2.06.94zm-11 1L8.5 8.5l.94-2.06 2.06-.94-2.06-.94L8.5 2.5l-.94 2.06-2.06.94zm10 10l.94 2.06.94-2.06 2.06-.94-2.06-.94-.94-2.06-.94 2.06-2.06.94z\"/><path d=\"M17.41 7.96l-1.37-1.37c-.4-.4-.92-.59-1.43-.59-.52 0-1.04.2-1.43.59L10.3 9.45l-7.72 7.72c-.78.78-.78 2.05 0 2.83L4 21.41c.39.39.9.59 1.41.59.51 0 1.02-.2 1.41-.59l7.78-7.78 2.81-2.81c.8-.78.8-2.07 0-2.86zM5.41 20L4 18.59l7.72-7.72 1.47 1.35L5.41 20z\"/>\n",
              "  </svg>\n",
              "      </button>\n",
              "      \n",
              "  <style>\n",
              "    .colab-df-container {\n",
              "      display:flex;\n",
              "      flex-wrap:wrap;\n",
              "      gap: 12px;\n",
              "    }\n",
              "\n",
              "    .colab-df-convert {\n",
              "      background-color: #E8F0FE;\n",
              "      border: none;\n",
              "      border-radius: 50%;\n",
              "      cursor: pointer;\n",
              "      display: none;\n",
              "      fill: #1967D2;\n",
              "      height: 32px;\n",
              "      padding: 0 0 0 0;\n",
              "      width: 32px;\n",
              "    }\n",
              "\n",
              "    .colab-df-convert:hover {\n",
              "      background-color: #E2EBFA;\n",
              "      box-shadow: 0px 1px 2px rgba(60, 64, 67, 0.3), 0px 1px 3px 1px rgba(60, 64, 67, 0.15);\n",
              "      fill: #174EA6;\n",
              "    }\n",
              "\n",
              "    [theme=dark] .colab-df-convert {\n",
              "      background-color: #3B4455;\n",
              "      fill: #D2E3FC;\n",
              "    }\n",
              "\n",
              "    [theme=dark] .colab-df-convert:hover {\n",
              "      background-color: #434B5C;\n",
              "      box-shadow: 0px 1px 3px 1px rgba(0, 0, 0, 0.15);\n",
              "      filter: drop-shadow(0px 1px 2px rgba(0, 0, 0, 0.3));\n",
              "      fill: #FFFFFF;\n",
              "    }\n",
              "  </style>\n",
              "\n",
              "      <script>\n",
              "        const buttonEl =\n",
              "          document.querySelector('#df-644b6dc9-c5bc-4063-aceb-9d4b02090db0 button.colab-df-convert');\n",
              "        buttonEl.style.display =\n",
              "          google.colab.kernel.accessAllowed ? 'block' : 'none';\n",
              "\n",
              "        async function convertToInteractive(key) {\n",
              "          const element = document.querySelector('#df-644b6dc9-c5bc-4063-aceb-9d4b02090db0');\n",
              "          const dataTable =\n",
              "            await google.colab.kernel.invokeFunction('convertToInteractive',\n",
              "                                                     [key], {});\n",
              "          if (!dataTable) return;\n",
              "\n",
              "          const docLinkHtml = 'Like what you see? Visit the ' +\n",
              "            '<a target=\"_blank\" href=https://colab.research.google.com/notebooks/data_table.ipynb>data table notebook</a>'\n",
              "            + ' to learn more about interactive tables.';\n",
              "          element.innerHTML = '';\n",
              "          dataTable['output_type'] = 'display_data';\n",
              "          await google.colab.output.renderOutput(dataTable, element);\n",
              "          const docLink = document.createElement('div');\n",
              "          docLink.innerHTML = docLinkHtml;\n",
              "          element.appendChild(docLink);\n",
              "        }\n",
              "      </script>\n",
              "    </div>\n",
              "  </div>\n",
              "  "
            ]
          },
          "metadata": {},
          "execution_count": 7
        }
      ],
      "source": [
        "# One-Hot Encoding\n",
        "DonorABO = pd.get_dummies(df[\"DonorABO {1,-1,2,0}\"], prefix = \"DonorABO\")\n",
        "RecipientABO = pd.get_dummies(df[\"RecipientABO {1,-1,2,0}\"], prefix = \"RecipientABO\")\n",
        "Disease = pd.get_dummies(df[\"Disease {ALL,AML,chronic,nonmalignant,lymphoma}\"], prefix = \"Disease\")\n",
        "\n",
        "for x in DonorABO:\n",
        "  df[x] = DonorABO[x]\n",
        "for x in RecipientABO:\n",
        "  df[x] = RecipientABO[x]\n",
        "for x in Disease:\n",
        "  df[x] = Disease[x]\n",
        "df"
      ]
    },
    {
      "cell_type": "code",
      "execution_count": null,
      "metadata": {
        "id": "YtFoeXfPkVYc"
      },
      "outputs": [],
      "source": [
        "df = df.drop([\"DonorABO {1,-1,2,0}\", \"RecipientABO {1,-1,2,0}\", \"Disease {ALL,AML,chronic,nonmalignant,lymphoma}\"], axis = 1)"
      ]
    },
    {
      "cell_type": "code",
      "execution_count": null,
      "metadata": {
        "id": "3Ui9xaaWb7Om",
        "colab": {
          "base_uri": "https://localhost:8080/"
        },
        "outputId": "4bf2be6c-9a8b-4421-c37d-62d88813483b"
      },
      "outputs": [
        {
          "output_type": "execute_result",
          "data": {
            "text/plain": [
              "     Recipientgender {1,0}  Stemcellsource {1,0}  Donorage numeric  \\\n",
              "0                        1                     1         22.830137   \n",
              "1                        1                     0         23.342466   \n",
              "2                        1                     0         26.394521   \n",
              "3                        0                     0         39.684932   \n",
              "4                        0                     1         33.358904   \n",
              "..                     ...                   ...               ...   \n",
              "182                      1                     1         37.575342   \n",
              "183                      0                     1         22.895890   \n",
              "184                      0                     1         27.347945   \n",
              "185                      1                     1         27.780822   \n",
              "186                      1                     1         55.553425   \n",
              "\n",
              "     Donorage35 {0,1}  IIIV {1,0}  Gendermatch {0,1}  RecipientRh {1,0}  \\\n",
              "0                   0           1                  0                1.0   \n",
              "1                   0           1                  0                1.0   \n",
              "2                   0           1                  0                1.0   \n",
              "3                   1           1                  0                1.0   \n",
              "4                   0           0                  0                0.0   \n",
              "..                ...         ...                ...                ...   \n",
              "182                 1           1                  0                0.0   \n",
              "183                 0           0                  0                1.0   \n",
              "184                 0           1                  0                1.0   \n",
              "185                 0           1                  0                1.0   \n",
              "186                 1           1                  0                1.0   \n",
              "\n",
              "     ABOmatch {0,1}  CMVstatus {3,2,1,0}  DonorCMV {1,0}  ...  \\\n",
              "0               0.0                  3.0             1.0  ...   \n",
              "1               0.0                  0.0             0.0  ...   \n",
              "2               0.0                  2.0             0.0  ...   \n",
              "3               1.0                  1.0             1.0  ...   \n",
              "4               1.0                  0.0             0.0  ...   \n",
              "..              ...                  ...             ...  ...   \n",
              "182             0.0                  3.0             1.0  ...   \n",
              "183             1.0                  2.0             0.0  ...   \n",
              "184             1.0                  3.0             1.0  ...   \n",
              "185             1.0                  0.0             0.0  ...   \n",
              "186             1.0                  1.0             1.0  ...   \n",
              "\n",
              "     supervision_time numeric  survival_status numeric  DonorABO_-1  \\\n",
              "0                         999                        0            0   \n",
              "1                         163                        1            1   \n",
              "2                         435                        1            1   \n",
              "3                          53                        1            0   \n",
              "4                        2043                        0            0   \n",
              "..                        ...                      ...          ...   \n",
              "182                       385                        1            0   \n",
              "183                       634                        1            0   \n",
              "184                      1895                        0            0   \n",
              "185                       382                        1            0   \n",
              "186                      1109                        0            0   \n",
              "\n",
              "     DonorABO_0  DonorABO_1  DonorABO_2  RecipientABO_-1.0  RecipientABO_0.0  \\\n",
              "0             0           1           0                  0                 0   \n",
              "1             0           0           0                  1                 0   \n",
              "2             0           0           0                  1                 0   \n",
              "3             0           1           0                  0                 0   \n",
              "4             0           1           0                  0                 0   \n",
              "..          ...         ...         ...                ...               ...   \n",
              "182           0           1           0                  0                 0   \n",
              "183           0           1           0                  0                 1   \n",
              "184           0           1           0                  1                 0   \n",
              "185           0           1           0                  0                 1   \n",
              "186           0           1           0                  0                 0   \n",
              "\n",
              "     RecipientABO_1.0  RecipientABO_2.0  \n",
              "0                   1                 0  \n",
              "1                   0                 0  \n",
              "2                   0                 0  \n",
              "3                   0                 1  \n",
              "4                   0                 1  \n",
              "..                ...               ...  \n",
              "182                 1                 0  \n",
              "183                 0                 0  \n",
              "184                 0                 0  \n",
              "185                 0                 0  \n",
              "186                 0                 1  \n",
              "\n",
              "[187 rows x 42 columns]"
            ],
            "text/html": [
              "\n",
              "  <div id=\"df-05d303dc-7384-4a76-b5c7-79bdd4d9d273\">\n",
              "    <div class=\"colab-df-container\">\n",
              "      <div>\n",
              "<style scoped>\n",
              "    .dataframe tbody tr th:only-of-type {\n",
              "        vertical-align: middle;\n",
              "    }\n",
              "\n",
              "    .dataframe tbody tr th {\n",
              "        vertical-align: top;\n",
              "    }\n",
              "\n",
              "    .dataframe thead th {\n",
              "        text-align: right;\n",
              "    }\n",
              "</style>\n",
              "<table border=\"1\" class=\"dataframe\">\n",
              "  <thead>\n",
              "    <tr style=\"text-align: right;\">\n",
              "      <th></th>\n",
              "      <th>Recipientgender {1,0}</th>\n",
              "      <th>Stemcellsource {1,0}</th>\n",
              "      <th>Donorage numeric</th>\n",
              "      <th>Donorage35 {0,1}</th>\n",
              "      <th>IIIV {1,0}</th>\n",
              "      <th>Gendermatch {0,1}</th>\n",
              "      <th>RecipientRh {1,0}</th>\n",
              "      <th>ABOmatch {0,1}</th>\n",
              "      <th>CMVstatus {3,2,1,0}</th>\n",
              "      <th>DonorCMV {1,0}</th>\n",
              "      <th>...</th>\n",
              "      <th>supervision_time numeric</th>\n",
              "      <th>survival_status numeric</th>\n",
              "      <th>DonorABO_-1</th>\n",
              "      <th>DonorABO_0</th>\n",
              "      <th>DonorABO_1</th>\n",
              "      <th>DonorABO_2</th>\n",
              "      <th>RecipientABO_-1.0</th>\n",
              "      <th>RecipientABO_0.0</th>\n",
              "      <th>RecipientABO_1.0</th>\n",
              "      <th>RecipientABO_2.0</th>\n",
              "    </tr>\n",
              "  </thead>\n",
              "  <tbody>\n",
              "    <tr>\n",
              "      <th>0</th>\n",
              "      <td>1</td>\n",
              "      <td>1</td>\n",
              "      <td>22.830137</td>\n",
              "      <td>0</td>\n",
              "      <td>1</td>\n",
              "      <td>0</td>\n",
              "      <td>1.0</td>\n",
              "      <td>0.0</td>\n",
              "      <td>3.0</td>\n",
              "      <td>1.0</td>\n",
              "      <td>...</td>\n",
              "      <td>999</td>\n",
              "      <td>0</td>\n",
              "      <td>0</td>\n",
              "      <td>0</td>\n",
              "      <td>1</td>\n",
              "      <td>0</td>\n",
              "      <td>0</td>\n",
              "      <td>0</td>\n",
              "      <td>1</td>\n",
              "      <td>0</td>\n",
              "    </tr>\n",
              "    <tr>\n",
              "      <th>1</th>\n",
              "      <td>1</td>\n",
              "      <td>0</td>\n",
              "      <td>23.342466</td>\n",
              "      <td>0</td>\n",
              "      <td>1</td>\n",
              "      <td>0</td>\n",
              "      <td>1.0</td>\n",
              "      <td>0.0</td>\n",
              "      <td>0.0</td>\n",
              "      <td>0.0</td>\n",
              "      <td>...</td>\n",
              "      <td>163</td>\n",
              "      <td>1</td>\n",
              "      <td>1</td>\n",
              "      <td>0</td>\n",
              "      <td>0</td>\n",
              "      <td>0</td>\n",
              "      <td>1</td>\n",
              "      <td>0</td>\n",
              "      <td>0</td>\n",
              "      <td>0</td>\n",
              "    </tr>\n",
              "    <tr>\n",
              "      <th>2</th>\n",
              "      <td>1</td>\n",
              "      <td>0</td>\n",
              "      <td>26.394521</td>\n",
              "      <td>0</td>\n",
              "      <td>1</td>\n",
              "      <td>0</td>\n",
              "      <td>1.0</td>\n",
              "      <td>0.0</td>\n",
              "      <td>2.0</td>\n",
              "      <td>0.0</td>\n",
              "      <td>...</td>\n",
              "      <td>435</td>\n",
              "      <td>1</td>\n",
              "      <td>1</td>\n",
              "      <td>0</td>\n",
              "      <td>0</td>\n",
              "      <td>0</td>\n",
              "      <td>1</td>\n",
              "      <td>0</td>\n",
              "      <td>0</td>\n",
              "      <td>0</td>\n",
              "    </tr>\n",
              "    <tr>\n",
              "      <th>3</th>\n",
              "      <td>0</td>\n",
              "      <td>0</td>\n",
              "      <td>39.684932</td>\n",
              "      <td>1</td>\n",
              "      <td>1</td>\n",
              "      <td>0</td>\n",
              "      <td>1.0</td>\n",
              "      <td>1.0</td>\n",
              "      <td>1.0</td>\n",
              "      <td>1.0</td>\n",
              "      <td>...</td>\n",
              "      <td>53</td>\n",
              "      <td>1</td>\n",
              "      <td>0</td>\n",
              "      <td>0</td>\n",
              "      <td>1</td>\n",
              "      <td>0</td>\n",
              "      <td>0</td>\n",
              "      <td>0</td>\n",
              "      <td>0</td>\n",
              "      <td>1</td>\n",
              "    </tr>\n",
              "    <tr>\n",
              "      <th>4</th>\n",
              "      <td>0</td>\n",
              "      <td>1</td>\n",
              "      <td>33.358904</td>\n",
              "      <td>0</td>\n",
              "      <td>0</td>\n",
              "      <td>0</td>\n",
              "      <td>0.0</td>\n",
              "      <td>1.0</td>\n",
              "      <td>0.0</td>\n",
              "      <td>0.0</td>\n",
              "      <td>...</td>\n",
              "      <td>2043</td>\n",
              "      <td>0</td>\n",
              "      <td>0</td>\n",
              "      <td>0</td>\n",
              "      <td>1</td>\n",
              "      <td>0</td>\n",
              "      <td>0</td>\n",
              "      <td>0</td>\n",
              "      <td>0</td>\n",
              "      <td>1</td>\n",
              "    </tr>\n",
              "    <tr>\n",
              "      <th>...</th>\n",
              "      <td>...</td>\n",
              "      <td>...</td>\n",
              "      <td>...</td>\n",
              "      <td>...</td>\n",
              "      <td>...</td>\n",
              "      <td>...</td>\n",
              "      <td>...</td>\n",
              "      <td>...</td>\n",
              "      <td>...</td>\n",
              "      <td>...</td>\n",
              "      <td>...</td>\n",
              "      <td>...</td>\n",
              "      <td>...</td>\n",
              "      <td>...</td>\n",
              "      <td>...</td>\n",
              "      <td>...</td>\n",
              "      <td>...</td>\n",
              "      <td>...</td>\n",
              "      <td>...</td>\n",
              "      <td>...</td>\n",
              "      <td>...</td>\n",
              "    </tr>\n",
              "    <tr>\n",
              "      <th>182</th>\n",
              "      <td>1</td>\n",
              "      <td>1</td>\n",
              "      <td>37.575342</td>\n",
              "      <td>1</td>\n",
              "      <td>1</td>\n",
              "      <td>0</td>\n",
              "      <td>0.0</td>\n",
              "      <td>0.0</td>\n",
              "      <td>3.0</td>\n",
              "      <td>1.0</td>\n",
              "      <td>...</td>\n",
              "      <td>385</td>\n",
              "      <td>1</td>\n",
              "      <td>0</td>\n",
              "      <td>0</td>\n",
              "      <td>1</td>\n",
              "      <td>0</td>\n",
              "      <td>0</td>\n",
              "      <td>0</td>\n",
              "      <td>1</td>\n",
              "      <td>0</td>\n",
              "    </tr>\n",
              "    <tr>\n",
              "      <th>183</th>\n",
              "      <td>0</td>\n",
              "      <td>1</td>\n",
              "      <td>22.895890</td>\n",
              "      <td>0</td>\n",
              "      <td>0</td>\n",
              "      <td>0</td>\n",
              "      <td>1.0</td>\n",
              "      <td>1.0</td>\n",
              "      <td>2.0</td>\n",
              "      <td>0.0</td>\n",
              "      <td>...</td>\n",
              "      <td>634</td>\n",
              "      <td>1</td>\n",
              "      <td>0</td>\n",
              "      <td>0</td>\n",
              "      <td>1</td>\n",
              "      <td>0</td>\n",
              "      <td>0</td>\n",
              "      <td>1</td>\n",
              "      <td>0</td>\n",
              "      <td>0</td>\n",
              "    </tr>\n",
              "    <tr>\n",
              "      <th>184</th>\n",
              "      <td>0</td>\n",
              "      <td>1</td>\n",
              "      <td>27.347945</td>\n",
              "      <td>0</td>\n",
              "      <td>1</td>\n",
              "      <td>0</td>\n",
              "      <td>1.0</td>\n",
              "      <td>1.0</td>\n",
              "      <td>3.0</td>\n",
              "      <td>1.0</td>\n",
              "      <td>...</td>\n",
              "      <td>1895</td>\n",
              "      <td>0</td>\n",
              "      <td>0</td>\n",
              "      <td>0</td>\n",
              "      <td>1</td>\n",
              "      <td>0</td>\n",
              "      <td>1</td>\n",
              "      <td>0</td>\n",
              "      <td>0</td>\n",
              "      <td>0</td>\n",
              "    </tr>\n",
              "    <tr>\n",
              "      <th>185</th>\n",
              "      <td>1</td>\n",
              "      <td>1</td>\n",
              "      <td>27.780822</td>\n",
              "      <td>0</td>\n",
              "      <td>1</td>\n",
              "      <td>0</td>\n",
              "      <td>1.0</td>\n",
              "      <td>1.0</td>\n",
              "      <td>0.0</td>\n",
              "      <td>0.0</td>\n",
              "      <td>...</td>\n",
              "      <td>382</td>\n",
              "      <td>1</td>\n",
              "      <td>0</td>\n",
              "      <td>0</td>\n",
              "      <td>1</td>\n",
              "      <td>0</td>\n",
              "      <td>0</td>\n",
              "      <td>1</td>\n",
              "      <td>0</td>\n",
              "      <td>0</td>\n",
              "    </tr>\n",
              "    <tr>\n",
              "      <th>186</th>\n",
              "      <td>1</td>\n",
              "      <td>1</td>\n",
              "      <td>55.553425</td>\n",
              "      <td>1</td>\n",
              "      <td>1</td>\n",
              "      <td>0</td>\n",
              "      <td>1.0</td>\n",
              "      <td>1.0</td>\n",
              "      <td>1.0</td>\n",
              "      <td>1.0</td>\n",
              "      <td>...</td>\n",
              "      <td>1109</td>\n",
              "      <td>0</td>\n",
              "      <td>0</td>\n",
              "      <td>0</td>\n",
              "      <td>1</td>\n",
              "      <td>0</td>\n",
              "      <td>0</td>\n",
              "      <td>0</td>\n",
              "      <td>0</td>\n",
              "      <td>1</td>\n",
              "    </tr>\n",
              "  </tbody>\n",
              "</table>\n",
              "<p>187 rows × 42 columns</p>\n",
              "</div>\n",
              "      <button class=\"colab-df-convert\" onclick=\"convertToInteractive('df-05d303dc-7384-4a76-b5c7-79bdd4d9d273')\"\n",
              "              title=\"Convert this dataframe to an interactive table.\"\n",
              "              style=\"display:none;\">\n",
              "        \n",
              "  <svg xmlns=\"http://www.w3.org/2000/svg\" height=\"24px\"viewBox=\"0 0 24 24\"\n",
              "       width=\"24px\">\n",
              "    <path d=\"M0 0h24v24H0V0z\" fill=\"none\"/>\n",
              "    <path d=\"M18.56 5.44l.94 2.06.94-2.06 2.06-.94-2.06-.94-.94-2.06-.94 2.06-2.06.94zm-11 1L8.5 8.5l.94-2.06 2.06-.94-2.06-.94L8.5 2.5l-.94 2.06-2.06.94zm10 10l.94 2.06.94-2.06 2.06-.94-2.06-.94-.94-2.06-.94 2.06-2.06.94z\"/><path d=\"M17.41 7.96l-1.37-1.37c-.4-.4-.92-.59-1.43-.59-.52 0-1.04.2-1.43.59L10.3 9.45l-7.72 7.72c-.78.78-.78 2.05 0 2.83L4 21.41c.39.39.9.59 1.41.59.51 0 1.02-.2 1.41-.59l7.78-7.78 2.81-2.81c.8-.78.8-2.07 0-2.86zM5.41 20L4 18.59l7.72-7.72 1.47 1.35L5.41 20z\"/>\n",
              "  </svg>\n",
              "      </button>\n",
              "      \n",
              "  <style>\n",
              "    .colab-df-container {\n",
              "      display:flex;\n",
              "      flex-wrap:wrap;\n",
              "      gap: 12px;\n",
              "    }\n",
              "\n",
              "    .colab-df-convert {\n",
              "      background-color: #E8F0FE;\n",
              "      border: none;\n",
              "      border-radius: 50%;\n",
              "      cursor: pointer;\n",
              "      display: none;\n",
              "      fill: #1967D2;\n",
              "      height: 32px;\n",
              "      padding: 0 0 0 0;\n",
              "      width: 32px;\n",
              "    }\n",
              "\n",
              "    .colab-df-convert:hover {\n",
              "      background-color: #E2EBFA;\n",
              "      box-shadow: 0px 1px 2px rgba(60, 64, 67, 0.3), 0px 1px 3px 1px rgba(60, 64, 67, 0.15);\n",
              "      fill: #174EA6;\n",
              "    }\n",
              "\n",
              "    [theme=dark] .colab-df-convert {\n",
              "      background-color: #3B4455;\n",
              "      fill: #D2E3FC;\n",
              "    }\n",
              "\n",
              "    [theme=dark] .colab-df-convert:hover {\n",
              "      background-color: #434B5C;\n",
              "      box-shadow: 0px 1px 3px 1px rgba(0, 0, 0, 0.15);\n",
              "      filter: drop-shadow(0px 1px 2px rgba(0, 0, 0, 0.3));\n",
              "      fill: #FFFFFF;\n",
              "    }\n",
              "  </style>\n",
              "\n",
              "      <script>\n",
              "        const buttonEl =\n",
              "          document.querySelector('#df-05d303dc-7384-4a76-b5c7-79bdd4d9d273 button.colab-df-convert');\n",
              "        buttonEl.style.display =\n",
              "          google.colab.kernel.accessAllowed ? 'block' : 'none';\n",
              "\n",
              "        async function convertToInteractive(key) {\n",
              "          const element = document.querySelector('#df-05d303dc-7384-4a76-b5c7-79bdd4d9d273');\n",
              "          const dataTable =\n",
              "            await google.colab.kernel.invokeFunction('convertToInteractive',\n",
              "                                                     [key], {});\n",
              "          if (!dataTable) return;\n",
              "\n",
              "          const docLinkHtml = 'Like what you see? Visit the ' +\n",
              "            '<a target=\"_blank\" href=https://colab.research.google.com/notebooks/data_table.ipynb>data table notebook</a>'\n",
              "            + ' to learn more about interactive tables.';\n",
              "          element.innerHTML = '';\n",
              "          dataTable['output_type'] = 'display_data';\n",
              "          await google.colab.output.renderOutput(dataTable, element);\n",
              "          const docLink = document.createElement('div');\n",
              "          docLink.innerHTML = docLinkHtml;\n",
              "          element.appendChild(docLink);\n",
              "        }\n",
              "      </script>\n",
              "    </div>\n",
              "  </div>\n",
              "  "
            ]
          },
          "metadata": {},
          "execution_count": 9
        }
      ],
      "source": [
        "# Fill missing values with median\n",
        "column_names = list(df)\n",
        "for x in column_names:\n",
        "  df[x] = df[x].fillna(df[x].notna().median())\n",
        "df"
      ]
    },
    {
      "cell_type": "code",
      "execution_count": null,
      "metadata": {
        "id": "hqUGhOuGDFdX"
      },
      "outputs": [],
      "source": [
        "# Feature Creation - Ratio of Donor Age and Recipient Age\n",
        "\n",
        "df['age_ratio'] = df['Donorage numeric']/df['Recipientage numeric']\n"
      ]
    },
    {
      "cell_type": "code",
      "execution_count": null,
      "metadata": {
        "id": "awvFLVmFDLCm",
        "colab": {
          "base_uri": "https://localhost:8080/"
        },
        "outputId": "801103c0-1b65-42b9-f402-14bc872dc10a"
      },
      "outputs": [
        {
          "output_type": "execute_result",
          "data": {
            "text/plain": [
              "array([[ 0.81831709,  0.53819622, -1.28998124, ...,  1.22202019,\n",
              "        -0.27333614, -0.4393542 ],\n",
              "       [ 0.81831709, -1.85805838, -1.22787834, ..., -0.81831709,\n",
              "        -0.27333614,  0.00618219],\n",
              "       [ 0.81831709, -1.85805838, -0.85791788, ..., -0.81831709,\n",
              "        -0.27333614, -0.23046544],\n",
              "       ...,\n",
              "       [-1.22202019,  0.53819622, -0.74234683, ..., -0.81831709,\n",
              "        -0.27333614, -0.40694924],\n",
              "       [ 0.81831709,  0.53819622, -0.68987485, ..., -0.81831709,\n",
              "        -0.27333614, -0.29831978],\n",
              "       [ 0.81831709,  0.53819622,  2.67663232, ..., -0.81831709,\n",
              "         3.65849906,  0.00774302]])"
            ]
          },
          "metadata": {},
          "execution_count": 11
        }
      ],
      "source": [
        "# Separate labels from features\n",
        "target = df[\"survival_status numeric\"]\n",
        "lst = list(df)\n",
        "lst.remove(\"survival_status numeric\")\n",
        "features = df[lst]\n",
        "\n",
        "# Scaling\n",
        "features_scaled = StandardScaler().fit_transform(features)\n",
        "features_scaled\n",
        "#features: features_scaled\n",
        "#target: target"
      ]
    },
    {
      "cell_type": "code",
      "execution_count": null,
      "metadata": {
        "id": "g8PaEgMg5G4l"
      },
      "outputs": [],
      "source": [
        "features_scaled, features_scaled_test, target, target_test = train_test_split(features_scaled, target, test_size=0.3, random_state=100)"
      ]
    },
    {
      "cell_type": "code",
      "execution_count": null,
      "metadata": {
        "id": "o1YgERU65-0T",
        "colab": {
          "base_uri": "https://localhost:8080/"
        },
        "outputId": "8b664b91-4697-488a-c56d-a0e08f2e8456"
      },
      "outputs": [
        {
          "output_type": "execute_result",
          "data": {
            "text/plain": [
              "0    70\n",
              "1    60\n",
              "Name: survival_status numeric, dtype: int64"
            ]
          },
          "metadata": {},
          "execution_count": 13
        },
        {
          "output_type": "display_data",
          "data": {
            "text/plain": [
              "<Figure size 360x360 with 1 Axes>"
            ],
            "image/png": "[encoded data removed]"
          },
          "metadata": {
            "needs_background": "light"
          }
        }
      ],
      "source": [
        "#Check if data is balance\n",
        "target.hist(bins = 5, figsize=(5,5))\n",
        "target.value_counts()"
      ]
    },
    {
      "cell_type": "markdown",
      "metadata": {
        "id": "6J-pxSezDGI6"
      },
      "source": [
        "# **2. Logistic Regression**"
      ]
    },
    {
      "cell_type": "markdown",
      "metadata": {
        "id": "EwXyKhPGQbuY"
      },
      "source": [
        "Here, we try to implement logistic regression to find out whether the patient dies (1) or lives (0) after bone marrow transplant surgery"
      ]
    },
    {
      "cell_type": "code",
      "execution_count": null,
      "metadata": {
        "id": "YnmlwOtRSitk",
        "colab": {
          "base_uri": "https://localhost:8080/",
          "height": 416
        },
        "outputId": "3de8176d-2c1a-44ff-e786-705a88d00550"
      },
      "outputs": [
        {
          "output_type": "stream",
          "name": "stdout",
          "text": [
            "Accuracy:    0.894737\n",
            "Precision:   0.851852\n",
            "Recall:      0.920000\n",
            "F1 Score:    0.884615\n",
            "\n",
            "AUC of ROC:\n",
            " 0.9862500000000001\n"
          ]
        },
        {
          "output_type": "display_data",
          "data": {
            "text/plain": [
              "<Figure size 432x288 with 1 Axes>"
            ],
            "image/png": "[encoded data removed]"
          },
          "metadata": {
            "needs_background": "light"
          }
        }
      ],
      "source": [
        "# Logistic Regression with no regularization\n",
        "\n",
        "log_reg = LogisticRegression(solver = 'liblinear')\n",
        "log_reg.fit(features_scaled, target)\n",
        "prediction = log_reg.predict(features_scaled_test)\n",
        "\n",
        "score = log_reg.predict_proba(features_scaled_test)[:,1]\n",
        "\n",
        "print_4_metrics(target_test,prediction)\n",
        "\n",
        "fpr_log_reg, tpr_log_reg, thresholds = metrics.roc_curve(target_test,score)\n",
        "print()\n",
        "pyplot.figure(1)\n",
        "pyplot.plot(fpr_log_reg, tpr_log_reg, color='orange', lw=1)\n",
        "pyplot.title(\"ROC curve with Logistic Regression (no regularization)\")\n",
        "pyplot.xlabel('FPR')\n",
        "pyplot.ylabel('TPR')\n",
        "\n",
        "aucroc = metrics.auc(fpr_log_reg, tpr_log_reg)\n",
        "print('AUC of ROC:\\n', aucroc)\n",
        "\n",
        "\n",
        "\n"
      ]
    },
    {
      "cell_type": "code",
      "execution_count": null,
      "metadata": {
        "id": "lwiJjDvQ9DlB",
        "colab": {
          "base_uri": "https://localhost:8080/"
        },
        "outputId": "485d46bf-288e-44f4-da51-e85af678444e"
      },
      "outputs": [
        {
          "output_type": "stream",
          "name": "stdout",
          "text": [
            "----Threshold: 0.1\n",
            "Accuracy:    0.846154\n",
            "Precision:   1.000000\n",
            "Recall:      0.750000\n",
            "F1 Score:    0.857143\n",
            "----Threshold: 0.15\n",
            "Accuracy:    0.907692\n",
            "Precision:   1.000000\n",
            "Recall:      0.833333\n",
            "F1 Score:    0.909091\n",
            "----Threshold: 0.2\n",
            "Accuracy:    0.923077\n",
            "Precision:   1.000000\n",
            "Recall:      0.857143\n",
            "F1 Score:    0.923077\n",
            "----Threshold: 0.25\n",
            "Accuracy:    0.969231\n",
            "Precision:   1.000000\n",
            "Recall:      0.937500\n",
            "F1 Score:    0.967742\n",
            "----Threshold: 0.3\n",
            "Accuracy:    0.976923\n",
            "Precision:   1.000000\n",
            "Recall:      0.952381\n",
            "F1 Score:    0.975610\n",
            "----Threshold: 0.35\n",
            "Accuracy:    0.976923\n",
            "Precision:   1.000000\n",
            "Recall:      0.952381\n",
            "F1 Score:    0.975610\n",
            "----Threshold: 0.4\n",
            "Accuracy:    0.976923\n",
            "Precision:   1.000000\n",
            "Recall:      0.952381\n",
            "F1 Score:    0.975610\n",
            "----Threshold: 0.45\n",
            "Accuracy:    0.992308\n",
            "Precision:   1.000000\n",
            "Recall:      0.983607\n",
            "F1 Score:    0.991736\n",
            "----Threshold: 0.5\n",
            "Accuracy:    1.000000\n",
            "Precision:   1.000000\n",
            "Recall:      1.000000\n",
            "F1 Score:    1.000000\n",
            "----Threshold: 0.55\n",
            "Accuracy:    1.000000\n",
            "Precision:   1.000000\n",
            "Recall:      1.000000\n",
            "F1 Score:    1.000000\n",
            "----Threshold: 0.6\n",
            "Accuracy:    1.000000\n",
            "Precision:   1.000000\n",
            "Recall:      1.000000\n",
            "F1 Score:    1.000000\n",
            "----Threshold: 0.65\n",
            "Accuracy:    1.000000\n",
            "Precision:   1.000000\n",
            "Recall:      1.000000\n",
            "F1 Score:    1.000000\n",
            "----Threshold: 0.7\n",
            "Accuracy:    0.984615\n",
            "Precision:   0.966667\n",
            "Recall:      1.000000\n",
            "F1 Score:    0.983051\n",
            "----Threshold: 0.75\n",
            "Accuracy:    0.976923\n",
            "Precision:   0.950000\n",
            "Recall:      1.000000\n",
            "F1 Score:    0.974359\n",
            "----Threshold: 0.8\n",
            "Accuracy:    0.938462\n",
            "Precision:   0.866667\n",
            "Recall:      1.000000\n",
            "F1 Score:    0.928571\n",
            "----Threshold: 0.85\n",
            "Accuracy:    0.900000\n",
            "Precision:   0.783333\n",
            "Recall:      1.000000\n",
            "F1 Score:    0.878505\n",
            "----Threshold: 0.9\n",
            "Accuracy:    0.869231\n",
            "Precision:   0.716667\n",
            "Recall:      1.000000\n",
            "F1 Score:    0.834951\n"
          ]
        }
      ],
      "source": [
        "import math\n",
        "import numpy as np\n",
        "\n",
        "score=log_reg.predict_proba(features_scaled)[:,1]\n",
        "\n",
        "\n",
        "fpr_log_reg, tpr_log_reg, thresholds = metrics.roc_curve(target,score)\n",
        "\n",
        "for x in [0.1, 0.15, 0.2, 0.25, 0.3, 0.35, 0.4, 0.45, 0.5, 0.55, 0.6, 0.65, 0.7, 0.75, 0.8, 0.85, 0.9]:\n",
        "  threshold = x\n",
        "  print(\"----Threshold: \" + str(threshold))\n",
        "  predictions = np.where(log_reg.predict_proba(features_scaled)[:,1] > threshold, 1, 0)\n",
        "  # print((1-fpr_log_reg[x])*tpr_log_reg[x])\n",
        "  print_4_metrics(predictions, target)"
      ]
    },
    {
      "cell_type": "code",
      "execution_count": null,
      "metadata": {
        "id": "ft8QS4-D9vSC",
        "colab": {
          "base_uri": "https://localhost:8080/"
        },
        "outputId": "84697936-f5f1-4302-d9dd-cf8425e24ae6"
      },
      "outputs": [
        {
          "output_type": "stream",
          "name": "stdout",
          "text": [
            "Accuracy:    0.929825\n",
            "Precision:   0.920000\n",
            "Recall:      0.920000\n",
            "F1 Score:    0.920000\n"
          ]
        }
      ],
      "source": [
        "import numpy as np\n",
        "threshold = 0.625\n",
        "predictions = np.where(log_reg.predict_proba(features_scaled_test)[:,1] > threshold, 1, 0)\n",
        "print_4_metrics(predictions, target_test)"
      ]
    },
    {
      "cell_type": "code",
      "execution_count": null,
      "metadata": {
        "id": "oUwId_SbE-fR",
        "colab": {
          "base_uri": "https://localhost:8080/"
        },
        "outputId": "4850472b-55b0-4d46-a6f7-e1bee161f0cd"
      },
      "outputs": [
        {
          "output_type": "stream",
          "name": "stdout",
          "text": [
            "0.001\n",
            "0.9230769230769231\n",
            "0.01\n",
            "0.9384615384615385\n",
            "0.1\n",
            "0.9461538461538461\n",
            "1\n",
            "0.9153846153846155\n",
            "2\n",
            "0.9153846153846155\n",
            "3\n",
            "0.8846153846153847\n",
            "4\n",
            "0.8615384615384617\n",
            "5\n",
            "0.8692307692307694\n",
            "6\n",
            "0.8461538461538461\n",
            "7\n",
            "0.8538461538461538\n",
            "8\n",
            "0.8538461538461538\n",
            "9\n",
            "0.8538461538461538\n",
            "10\n",
            "0.8384615384615385\n",
            "100\n",
            "0.5384615384615384\n"
          ]
        }
      ],
      "source": [
        "lambda_list = [0.001,.01,.1,1, 2, 3, 4,5,6,7,8,9,10,100]\n",
        "for lambd in lambda_list:\n",
        "  print(lambd)\n",
        "  log_reg = LogisticRegression(C=(1/lambd), penalty = 'l1', solver = 'liblinear')\n",
        "  print(cross_val_score(log_reg, features_scaled, target, cv = 10).mean())\n",
        "\n",
        "# Choose lambda 0.1"
      ]
    },
    {
      "cell_type": "code",
      "execution_count": null,
      "metadata": {
        "id": "l0_Ekoa3IGoG",
        "colab": {
          "base_uri": "https://localhost:8080/",
          "height": 434
        },
        "outputId": "e6a74f25-7f2b-4b3d-cec3-d5966bf7a390"
      },
      "outputs": [
        {
          "output_type": "stream",
          "name": "stdout",
          "text": [
            "Accuracy:    0.947368\n",
            "Precision:   0.958333\n",
            "Recall:      0.920000\n",
            "F1 Score:    0.938776\n",
            "\n",
            "AUC of ROC:\n",
            " 0.9925\n",
            "\n"
          ]
        },
        {
          "output_type": "display_data",
          "data": {
            "text/plain": [
              "<Figure size 432x288 with 1 Axes>"
            ],
            "image/png": "[encoded data removed]"
          },
          "metadata": {
            "needs_background": "light"
          }
        }
      ],
      "source": [
        "# X_train, X_test, y_train, y_test = train_test_split(features_scaled, target, test_size = 0.33, random_state = 30)\n",
        "log_reg = LogisticRegression(C=(1/0.1), penalty = 'l1', solver = 'liblinear')\n",
        "log_reg.fit(features_scaled, target)\n",
        "prediction = log_reg.predict(features_scaled_test)\n",
        "# disp = ConfusionMatrixDisplay(confusion_matrix=confusion_matrix(target_test, prediction), display_labels=log_reg.classes_)\n",
        "# disp.plot()\n",
        "\n",
        "score=log_reg.predict_proba(features_scaled_test)[:,1]\n",
        "print_4_metrics(target_test,prediction)\n",
        "\n",
        "fpr_log_reg, tpr_log_reg, thresholds = metrics.roc_curve(target_test,score)\n",
        "print()\n",
        "pyplot.figure(1)\n",
        "pyplot.plot(fpr_log_reg, tpr_log_reg, color='orange', lw=1)\n",
        "pyplot.title(\"ROC curve with Logistic Regression (with l1 regularization)\")\n",
        "pyplot.xlabel('FPR')\n",
        "pyplot.ylabel('TPR')\n",
        "\n",
        "aucroc = metrics.auc(fpr_log_reg, tpr_log_reg)\n",
        "print('AUC of ROC:\\n', aucroc)\n",
        "print()"
      ]
    },
    {
      "cell_type": "code",
      "execution_count": null,
      "metadata": {
        "id": "UOSo7MKV91MY",
        "colab": {
          "base_uri": "https://localhost:8080/"
        },
        "outputId": "af6b4248-5a4b-4105-9a35-f7a6169dc6a4"
      },
      "outputs": [
        {
          "output_type": "stream",
          "name": "stdout",
          "text": [
            "----Threshold: 0.1\n",
            "Accuracy:    1.000000\n",
            "Precision:   1.000000\n",
            "Recall:      1.000000\n",
            "F1 Score:    1.000000\n",
            "----Threshold: 0.15\n",
            "Accuracy:    1.000000\n",
            "Precision:   1.000000\n",
            "Recall:      1.000000\n",
            "F1 Score:    1.000000\n",
            "----Threshold: 0.2\n",
            "Accuracy:    1.000000\n",
            "Precision:   1.000000\n",
            "Recall:      1.000000\n",
            "F1 Score:    1.000000\n",
            "----Threshold: 0.25\n",
            "Accuracy:    1.000000\n",
            "Precision:   1.000000\n",
            "Recall:      1.000000\n",
            "F1 Score:    1.000000\n",
            "----Threshold: 0.3\n",
            "Accuracy:    1.000000\n",
            "Precision:   1.000000\n",
            "Recall:      1.000000\n",
            "F1 Score:    1.000000\n",
            "----Threshold: 0.35\n",
            "Accuracy:    1.000000\n",
            "Precision:   1.000000\n",
            "Recall:      1.000000\n",
            "F1 Score:    1.000000\n",
            "----Threshold: 0.4\n",
            "Accuracy:    1.000000\n",
            "Precision:   1.000000\n",
            "Recall:      1.000000\n",
            "F1 Score:    1.000000\n",
            "----Threshold: 0.45\n",
            "Accuracy:    1.000000\n",
            "Precision:   1.000000\n",
            "Recall:      1.000000\n",
            "F1 Score:    1.000000\n",
            "----Threshold: 0.5\n",
            "Accuracy:    1.000000\n",
            "Precision:   1.000000\n",
            "Recall:      1.000000\n",
            "F1 Score:    1.000000\n",
            "----Threshold: 0.55\n",
            "Accuracy:    1.000000\n",
            "Precision:   1.000000\n",
            "Recall:      1.000000\n",
            "F1 Score:    1.000000\n",
            "----Threshold: 0.6\n",
            "Accuracy:    1.000000\n",
            "Precision:   1.000000\n",
            "Recall:      1.000000\n",
            "F1 Score:    1.000000\n",
            "----Threshold: 0.65\n",
            "Accuracy:    1.000000\n",
            "Precision:   1.000000\n",
            "Recall:      1.000000\n",
            "F1 Score:    1.000000\n",
            "----Threshold: 0.7\n",
            "Accuracy:    1.000000\n",
            "Precision:   1.000000\n",
            "Recall:      1.000000\n",
            "F1 Score:    1.000000\n",
            "----Threshold: 0.75\n",
            "Accuracy:    1.000000\n",
            "Precision:   1.000000\n",
            "Recall:      1.000000\n",
            "F1 Score:    1.000000\n",
            "----Threshold: 0.8\n",
            "Accuracy:    1.000000\n",
            "Precision:   1.000000\n",
            "Recall:      1.000000\n",
            "F1 Score:    1.000000\n",
            "----Threshold: 0.85\n",
            "Accuracy:    1.000000\n",
            "Precision:   1.000000\n",
            "Recall:      1.000000\n",
            "F1 Score:    1.000000\n",
            "----Threshold: 0.9\n",
            "Accuracy:    1.000000\n",
            "Precision:   1.000000\n",
            "Recall:      1.000000\n",
            "F1 Score:    1.000000\n"
          ]
        }
      ],
      "source": [
        "import math\n",
        "\n",
        "\n",
        "score=log_reg.predict_proba(features_scaled)[:,1]\n",
        "\n",
        "\n",
        "fpr_log_reg, tpr_log_reg, thresholds = metrics.roc_curve(target,score)\n",
        "\n",
        "for x in [0.1, 0.15, 0.2, 0.25, 0.3, 0.35, 0.4, 0.45, 0.5, 0.55, 0.6, 0.65, 0.7, 0.75, 0.8, 0.85, 0.9]:\n",
        "  threshold = x\n",
        "  print(\"----Threshold: \" + str(threshold))\n",
        "  predictions = np.where(log_reg.predict_proba(features_scaled)[:,1] > threshold, 1, 0)\n",
        "  # print((1-fpr_log_reg[x])*tpr_log_reg[x])\n",
        "  print_4_metrics(predictions, target)"
      ]
    },
    {
      "cell_type": "code",
      "execution_count": null,
      "metadata": {
        "id": "XU7hD2jU91MZ",
        "colab": {
          "base_uri": "https://localhost:8080/"
        },
        "outputId": "1e3d3e89-3659-40ad-96df-e57c22fc4902"
      },
      "outputs": [
        {
          "output_type": "stream",
          "name": "stdout",
          "text": [
            "Accuracy:    0.947368\n",
            "Precision:   0.920000\n",
            "Recall:      0.958333\n",
            "F1 Score:    0.938776\n"
          ]
        }
      ],
      "source": [
        "import numpy as np\n",
        "threshold = 0.5\n",
        "predictions = np.where(log_reg.predict_proba(features_scaled_test)[:,1] > threshold, 1, 0)\n",
        "print_4_metrics(predictions, target_test)"
      ]
    },
    {
      "cell_type": "code",
      "execution_count": null,
      "metadata": {
        "id": "pA966zv4OUS5",
        "colab": {
          "base_uri": "https://localhost:8080/"
        },
        "outputId": "038633b8-b636-463d-d601-7b6c1ef428e8"
      },
      "outputs": [
        {
          "output_type": "stream",
          "name": "stdout",
          "text": [
            "0.1\n",
            "0.8692307692307691\n",
            "0.01\n",
            "0.8846153846153847\n",
            "1\n",
            "0.8692307692307691\n",
            "2\n",
            "0.8692307692307691\n",
            "3\n",
            "0.876923076923077\n",
            "4\n",
            "0.8692307692307694\n",
            "5\n",
            "0.8692307692307694\n",
            "10\n",
            "0.8692307692307691\n",
            "15\n",
            "0.8692307692307691\n",
            "20\n",
            "0.8384615384615385\n"
          ]
        }
      ],
      "source": [
        "#try with 2nd degree\n",
        "poly = PolynomialFeatures((1,2))\n",
        "poly_features = poly.fit_transform(features_scaled)\n",
        "\n",
        "lambda_list = [0.1, 0.01, 1, 2, 3, 4, 5, 10, 15, 20]\n",
        "for lambd in lambda_list:\n",
        "  print(lambd)\n",
        "  log_reg = LogisticRegression(C=(1/lambd), penalty = 'l1', solver = 'liblinear')\n",
        "  print(cross_val_score(log_reg, poly_features, target, cv = 10).mean())\n",
        "  # lambda = 3\n"
      ]
    },
    {
      "cell_type": "code",
      "execution_count": null,
      "metadata": {
        "id": "Q9nZyC-NQhfB",
        "colab": {
          "base_uri": "https://localhost:8080/",
          "height": 434
        },
        "outputId": "47894133-1d86-4727-a420-5a4e26d9658b"
      },
      "outputs": [
        {
          "output_type": "stream",
          "name": "stdout",
          "text": [
            "Accuracy:    0.947368\n",
            "Precision:   0.892857\n",
            "Recall:      1.000000\n",
            "F1 Score:    0.943396\n",
            "\n",
            "AUC of ROC:\n",
            " 0.99375\n",
            "\n"
          ]
        },
        {
          "output_type": "display_data",
          "data": {
            "text/plain": [
              "<Figure size 432x288 with 1 Axes>"
            ],
            "image/png": "[encoded data removed]"
          },
          "metadata": {
            "needs_background": "light"
          }
        }
      ],
      "source": [
        "log_reg = LogisticRegression(C=(1/3), penalty = 'l1', solver = 'liblinear')\n",
        "poly = PolynomialFeatures((1,2))\n",
        "poly_train = poly.fit_transform(features_scaled)\n",
        "log_reg.fit(poly_train, target)\n",
        "poly_test = poly.fit_transform(features_scaled_test)\n",
        "predictions = log_reg.predict(poly_test)\n",
        "\n",
        "\n",
        "print_4_metrics(target_test, predictions)\n",
        "\n",
        "score=log_reg.predict_proba(poly_test)[:,1]\n",
        "\n",
        "\n",
        "fpr_log_reg, tpr_log_reg, thresholds = metrics.roc_curve(target_test,score)\n",
        "print()\n",
        "pyplot.figure(1)\n",
        "pyplot.plot(fpr_log_reg, tpr_log_reg, color='orange', lw=1)\n",
        "pyplot.title(\"ROC curve with Logistic Regression (with l1 regularization)\")\n",
        "pyplot.xlabel('FPR')\n",
        "pyplot.ylabel('TPR')\n",
        "\n",
        "aucroc = metrics.auc(fpr_log_reg, tpr_log_reg)\n",
        "print('AUC of ROC:\\n', aucroc)\n",
        "print()\n"
      ]
    },
    {
      "cell_type": "code",
      "execution_count": null,
      "metadata": {
        "id": "IxI0RujfqG7s",
        "colab": {
          "base_uri": "https://localhost:8080/"
        },
        "outputId": "76008eb9-1eeb-41ee-ac73-7cf77669b52f"
      },
      "outputs": [
        {
          "output_type": "stream",
          "name": "stdout",
          "text": [
            "----Threshold: 0.1\n",
            "Accuracy:    0.800000\n",
            "Precision:   1.000000\n",
            "Recall:      0.697674\n",
            "F1 Score:    0.821918\n",
            "----Threshold: 0.15\n",
            "Accuracy:    0.861538\n",
            "Precision:   1.000000\n",
            "Recall:      0.769231\n",
            "F1 Score:    0.869565\n",
            "----Threshold: 0.2\n",
            "Accuracy:    0.892308\n",
            "Precision:   1.000000\n",
            "Recall:      0.810811\n",
            "F1 Score:    0.895522\n",
            "----Threshold: 0.25\n",
            "Accuracy:    0.907692\n",
            "Precision:   1.000000\n",
            "Recall:      0.833333\n",
            "F1 Score:    0.909091\n",
            "----Threshold: 0.3\n",
            "Accuracy:    0.938462\n",
            "Precision:   1.000000\n",
            "Recall:      0.882353\n",
            "F1 Score:    0.937500\n",
            "----Threshold: 0.35\n",
            "Accuracy:    0.946154\n",
            "Precision:   1.000000\n",
            "Recall:      0.895522\n",
            "F1 Score:    0.944882\n",
            "----Threshold: 0.4\n",
            "Accuracy:    0.969231\n",
            "Precision:   1.000000\n",
            "Recall:      0.937500\n",
            "F1 Score:    0.967742\n",
            "----Threshold: 0.45\n",
            "Accuracy:    0.984615\n",
            "Precision:   1.000000\n",
            "Recall:      0.967742\n",
            "F1 Score:    0.983607\n",
            "----Threshold: 0.5\n",
            "Accuracy:    0.992308\n",
            "Precision:   1.000000\n",
            "Recall:      0.983607\n",
            "F1 Score:    0.991736\n",
            "----Threshold: 0.55\n",
            "Accuracy:    1.000000\n",
            "Precision:   1.000000\n",
            "Recall:      1.000000\n",
            "F1 Score:    1.000000\n",
            "----Threshold: 0.6\n",
            "Accuracy:    1.000000\n",
            "Precision:   1.000000\n",
            "Recall:      1.000000\n",
            "F1 Score:    1.000000\n",
            "----Threshold: 0.65\n",
            "Accuracy:    1.000000\n",
            "Precision:   1.000000\n",
            "Recall:      1.000000\n",
            "F1 Score:    1.000000\n",
            "----Threshold: 0.7\n",
            "Accuracy:    1.000000\n",
            "Precision:   1.000000\n",
            "Recall:      1.000000\n",
            "F1 Score:    1.000000\n",
            "----Threshold: 0.75\n",
            "Accuracy:    0.992308\n",
            "Precision:   0.983333\n",
            "Recall:      1.000000\n",
            "F1 Score:    0.991597\n",
            "----Threshold: 0.8\n",
            "Accuracy:    0.953846\n",
            "Precision:   0.900000\n",
            "Recall:      1.000000\n",
            "F1 Score:    0.947368\n",
            "----Threshold: 0.85\n",
            "Accuracy:    0.907692\n",
            "Precision:   0.800000\n",
            "Recall:      1.000000\n",
            "F1 Score:    0.888889\n",
            "----Threshold: 0.9\n",
            "Accuracy:    0.838462\n",
            "Precision:   0.650000\n",
            "Recall:      1.000000\n",
            "F1 Score:    0.787879\n"
          ]
        }
      ],
      "source": [
        "import math\n",
        "\n",
        "\n",
        "score=log_reg.predict_proba(poly_train)[:,1]\n",
        "\n",
        "\n",
        "fpr_log_reg, tpr_log_reg, thresholds = metrics.roc_curve(target,score)\n",
        "\n",
        "for x in [0.1, 0.15, 0.2, 0.25, 0.3, 0.35, 0.4, 0.45, 0.5, 0.55, 0.6, 0.65, 0.7, 0.75, 0.8, 0.85, 0.9]:\n",
        "  threshold = x\n",
        "  print(\"----Threshold: \" + str(threshold))\n",
        "  predictions = np.where(log_reg.predict_proba(poly_train)[:,1] > threshold, 1, 0)\n",
        "  # print((1-fpr_log_reg[x])*tpr_log_reg[x])\n",
        "  print_4_metrics(predictions, target)"
      ]
    },
    {
      "cell_type": "code",
      "execution_count": null,
      "metadata": {
        "id": "L4-OGGU-s_mR",
        "colab": {
          "base_uri": "https://localhost:8080/"
        },
        "outputId": "20dd9404-10e6-418f-c504-8c798f91d460"
      },
      "outputs": [
        {
          "output_type": "stream",
          "name": "stdout",
          "text": [
            "Accuracy:    0.947368\n",
            "Precision:   0.958333\n",
            "Recall:      0.920000\n",
            "F1 Score:    0.938776\n"
          ]
        }
      ],
      "source": [
        "import numpy as np\n",
        "threshold = 0.625\n",
        "predictions = np.where(log_reg.predict_proba(poly_test)[:,1] > threshold, 1, 0)\n",
        "print_4_metrics(target_test, predictions)"
      ]
    },
    {
      "cell_type": "code",
      "execution_count": null,
      "metadata": {
        "id": "7OD764ytFOzn",
        "colab": {
          "base_uri": "https://localhost:8080/",
          "height": 296
        },
        "outputId": "01659ade-9693-4c23-864d-23c123a09099"
      },
      "outputs": [
        {
          "output_type": "execute_result",
          "data": {
            "text/plain": [
              "<sklearn.metrics._plot.confusion_matrix.ConfusionMatrixDisplay at 0x7f8b402febd0>"
            ]
          },
          "metadata": {},
          "execution_count": 30
        },
        {
          "output_type": "display_data",
          "data": {
            "text/plain": [
              "<Figure size 432x288 with 2 Axes>"
            ],
            "image/png": "[encoded data removed]"
          },
          "metadata": {
            "needs_background": "light"
          }
        }
      ],
      "source": [
        "log_reg = LogisticRegression(C=(1/0.1), penalty = 'l1', solver = 'liblinear')\n",
        "log_reg.fit(features_scaled, target)\n",
        "prediction = log_reg.predict(features_scaled_test)\n",
        "disp = ConfusionMatrixDisplay(confusion_matrix=confusion_matrix(target_test, prediction), display_labels=log_reg.classes_)\n",
        "disp.plot()\n",
        "\n"
      ]
    },
    {
      "cell_type": "code",
      "execution_count": null,
      "metadata": {
        "id": "_DIE1LYaFidT",
        "colab": {
          "base_uri": "https://localhost:8080/",
          "height": 1000
        },
        "outputId": "d1cb8b56-4311-4721-834f-dd5a9e91b942"
      },
      "outputs": [
        {
          "output_type": "execute_result",
          "data": {
            "text/plain": [
              "    Beta Values                       Feature\n",
              "0      0.325236         Recipientgender {1,0}\n",
              "1     -0.677641          Stemcellsource {1,0}\n",
              "2      0.000000              Donorage numeric\n",
              "3      1.005144              Donorage35 {0,1}\n",
              "4      0.015412                    IIIV {1,0}\n",
              "5     -0.269588             Gendermatch {0,1}\n",
              "6      0.499207             RecipientRh {1,0}\n",
              "7     -2.032519                ABOmatch {0,1}\n",
              "8      0.000000           CMVstatus {3,2,1,0}\n",
              "9     -0.003392                DonorCMV {1,0}\n",
              "10     2.163029            RecipientCMV {1,0}\n",
              "11     0.000000               Riskgroup {1,0}\n",
              "12     1.727093           Txpostrelapse {0,1}\n",
              "13     0.000000            Diseasegroup {1,0}\n",
              "14     0.000000            HLAmatch {0,1,3,2}\n",
              "15     0.395948             HLAmismatch {0,1}\n",
              "16     0.000000            Antigen {-1,1,0,2}\n",
              "17     0.472302             Alel {-1,0,2,1,3}\n",
              "18     0.000000        HLAgrI {0,1,7,3,2,4,5}\n",
              "19     0.000000          Recipientage numeric\n",
              "20     0.008076          Recipientage10 {0,1}\n",
              "21     0.000000       Recipientageint {0,1,2}\n",
              "22     3.324614                 Relapse {0,1}\n",
              "23    -1.042544              aGvHDIIIIV {0,1}\n",
              "24    -1.084500                extcGvHD {1,0}\n",
              "25     0.081771           CD34kgx10d6 numeric\n",
              "26     0.840382              CD3dCD34 numeric\n",
              "27     0.000000           CD3dkgx10d8 numeric\n",
              "28     0.311725             Rbodymass numeric\n",
              "29     0.000000           ANCrecovery numeric\n",
              "30     0.000000           PLTrecovery numeric\n",
              "31     0.000000  time_to_aGvHD_III_IV numeric\n",
              "32   -12.644037      supervision_time numeric\n",
              "33     0.000000                   DonorABO_-1\n",
              "34     0.000000                    DonorABO_0\n",
              "35     0.000000                    DonorABO_1\n",
              "36    -0.064626                    DonorABO_2\n",
              "37     0.191953             RecipientABO_-1.0\n",
              "38     0.000000              RecipientABO_0.0\n",
              "39    -1.160932              RecipientABO_1.0\n",
              "40    -0.887107              RecipientABO_2.0\n",
              "41    -0.257857                     age_ratio"
            ],
            "text/html": [
              "\n",
              "  <div id=\"df-99e51735-d95c-4ef1-b520-cf92cc225e58\">\n",
              "    <div class=\"colab-df-container\">\n",
              "      <div>\n",
              "<style scoped>\n",
              "    .dataframe tbody tr th:only-of-type {\n",
              "        vertical-align: middle;\n",
              "    }\n",
              "\n",
              "    .dataframe tbody tr th {\n",
              "        vertical-align: top;\n",
              "    }\n",
              "\n",
              "    .dataframe thead th {\n",
              "        text-align: right;\n",
              "    }\n",
              "</style>\n",
              "<table border=\"1\" class=\"dataframe\">\n",
              "  <thead>\n",
              "    <tr style=\"text-align: right;\">\n",
              "      <th></th>\n",
              "      <th>Beta Values</th>\n",
              "      <th>Feature</th>\n",
              "    </tr>\n",
              "  </thead>\n",
              "  <tbody>\n",
              "    <tr>\n",
              "      <th>0</th>\n",
              "      <td>0.325236</td>\n",
              "      <td>Recipientgender {1,0}</td>\n",
              "    </tr>\n",
              "    <tr>\n",
              "      <th>1</th>\n",
              "      <td>-0.677641</td>\n",
              "      <td>Stemcellsource {1,0}</td>\n",
              "    </tr>\n",
              "    <tr>\n",
              "      <th>2</th>\n",
              "      <td>0.000000</td>\n",
              "      <td>Donorage numeric</td>\n",
              "    </tr>\n",
              "    <tr>\n",
              "      <th>3</th>\n",
              "      <td>1.005144</td>\n",
              "      <td>Donorage35 {0,1}</td>\n",
              "    </tr>\n",
              "    <tr>\n",
              "      <th>4</th>\n",
              "      <td>0.015412</td>\n",
              "      <td>IIIV {1,0}</td>\n",
              "    </tr>\n",
              "    <tr>\n",
              "      <th>5</th>\n",
              "      <td>-0.269588</td>\n",
              "      <td>Gendermatch {0,1}</td>\n",
              "    </tr>\n",
              "    <tr>\n",
              "      <th>6</th>\n",
              "      <td>0.499207</td>\n",
              "      <td>RecipientRh {1,0}</td>\n",
              "    </tr>\n",
              "    <tr>\n",
              "      <th>7</th>\n",
              "      <td>-2.032519</td>\n",
              "      <td>ABOmatch {0,1}</td>\n",
              "    </tr>\n",
              "    <tr>\n",
              "      <th>8</th>\n",
              "      <td>0.000000</td>\n",
              "      <td>CMVstatus {3,2,1,0}</td>\n",
              "    </tr>\n",
              "    <tr>\n",
              "      <th>9</th>\n",
              "      <td>-0.003392</td>\n",
              "      <td>DonorCMV {1,0}</td>\n",
              "    </tr>\n",
              "    <tr>\n",
              "      <th>10</th>\n",
              "      <td>2.163029</td>\n",
              "      <td>RecipientCMV {1,0}</td>\n",
              "    </tr>\n",
              "    <tr>\n",
              "      <th>11</th>\n",
              "      <td>0.000000</td>\n",
              "      <td>Riskgroup {1,0}</td>\n",
              "    </tr>\n",
              "    <tr>\n",
              "      <th>12</th>\n",
              "      <td>1.727093</td>\n",
              "      <td>Txpostrelapse {0,1}</td>\n",
              "    </tr>\n",
              "    <tr>\n",
              "      <th>13</th>\n",
              "      <td>0.000000</td>\n",
              "      <td>Diseasegroup {1,0}</td>\n",
              "    </tr>\n",
              "    <tr>\n",
              "      <th>14</th>\n",
              "      <td>0.000000</td>\n",
              "      <td>HLAmatch {0,1,3,2}</td>\n",
              "    </tr>\n",
              "    <tr>\n",
              "      <th>15</th>\n",
              "      <td>0.395948</td>\n",
              "      <td>HLAmismatch {0,1}</td>\n",
              "    </tr>\n",
              "    <tr>\n",
              "      <th>16</th>\n",
              "      <td>0.000000</td>\n",
              "      <td>Antigen {-1,1,0,2}</td>\n",
              "    </tr>\n",
              "    <tr>\n",
              "      <th>17</th>\n",
              "      <td>0.472302</td>\n",
              "      <td>Alel {-1,0,2,1,3}</td>\n",
              "    </tr>\n",
              "    <tr>\n",
              "      <th>18</th>\n",
              "      <td>0.000000</td>\n",
              "      <td>HLAgrI {0,1,7,3,2,4,5}</td>\n",
              "    </tr>\n",
              "    <tr>\n",
              "      <th>19</th>\n",
              "      <td>0.000000</td>\n",
              "      <td>Recipientage numeric</td>\n",
              "    </tr>\n",
              "    <tr>\n",
              "      <th>20</th>\n",
              "      <td>0.008076</td>\n",
              "      <td>Recipientage10 {0,1}</td>\n",
              "    </tr>\n",
              "    <tr>\n",
              "      <th>21</th>\n",
              "      <td>0.000000</td>\n",
              "      <td>Recipientageint {0,1,2}</td>\n",
              "    </tr>\n",
              "    <tr>\n",
              "      <th>22</th>\n",
              "      <td>3.324614</td>\n",
              "      <td>Relapse {0,1}</td>\n",
              "    </tr>\n",
              "    <tr>\n",
              "      <th>23</th>\n",
              "      <td>-1.042544</td>\n",
              "      <td>aGvHDIIIIV {0,1}</td>\n",
              "    </tr>\n",
              "    <tr>\n",
              "      <th>24</th>\n",
              "      <td>-1.084500</td>\n",
              "      <td>extcGvHD {1,0}</td>\n",
              "    </tr>\n",
              "    <tr>\n",
              "      <th>25</th>\n",
              "      <td>0.081771</td>\n",
              "      <td>CD34kgx10d6 numeric</td>\n",
              "    </tr>\n",
              "    <tr>\n",
              "      <th>26</th>\n",
              "      <td>0.840382</td>\n",
              "      <td>CD3dCD34 numeric</td>\n",
              "    </tr>\n",
              "    <tr>\n",
              "      <th>27</th>\n",
              "      <td>0.000000</td>\n",
              "      <td>CD3dkgx10d8 numeric</td>\n",
              "    </tr>\n",
              "    <tr>\n",
              "      <th>28</th>\n",
              "      <td>0.311725</td>\n",
              "      <td>Rbodymass numeric</td>\n",
              "    </tr>\n",
              "    <tr>\n",
              "      <th>29</th>\n",
              "      <td>0.000000</td>\n",
              "      <td>ANCrecovery numeric</td>\n",
              "    </tr>\n",
              "    <tr>\n",
              "      <th>30</th>\n",
              "      <td>0.000000</td>\n",
              "      <td>PLTrecovery numeric</td>\n",
              "    </tr>\n",
              "    <tr>\n",
              "      <th>31</th>\n",
              "      <td>0.000000</td>\n",
              "      <td>time_to_aGvHD_III_IV numeric</td>\n",
              "    </tr>\n",
              "    <tr>\n",
              "      <th>32</th>\n",
              "      <td>-12.644037</td>\n",
              "      <td>supervision_time numeric</td>\n",
              "    </tr>\n",
              "    <tr>\n",
              "      <th>33</th>\n",
              "      <td>0.000000</td>\n",
              "      <td>DonorABO_-1</td>\n",
              "    </tr>\n",
              "    <tr>\n",
              "      <th>34</th>\n",
              "      <td>0.000000</td>\n",
              "      <td>DonorABO_0</td>\n",
              "    </tr>\n",
              "    <tr>\n",
              "      <th>35</th>\n",
              "      <td>0.000000</td>\n",
              "      <td>DonorABO_1</td>\n",
              "    </tr>\n",
              "    <tr>\n",
              "      <th>36</th>\n",
              "      <td>-0.064626</td>\n",
              "      <td>DonorABO_2</td>\n",
              "    </tr>\n",
              "    <tr>\n",
              "      <th>37</th>\n",
              "      <td>0.191953</td>\n",
              "      <td>RecipientABO_-1.0</td>\n",
              "    </tr>\n",
              "    <tr>\n",
              "      <th>38</th>\n",
              "      <td>0.000000</td>\n",
              "      <td>RecipientABO_0.0</td>\n",
              "    </tr>\n",
              "    <tr>\n",
              "      <th>39</th>\n",
              "      <td>-1.160932</td>\n",
              "      <td>RecipientABO_1.0</td>\n",
              "    </tr>\n",
              "    <tr>\n",
              "      <th>40</th>\n",
              "      <td>-0.887107</td>\n",
              "      <td>RecipientABO_2.0</td>\n",
              "    </tr>\n",
              "    <tr>\n",
              "      <th>41</th>\n",
              "      <td>-0.257857</td>\n",
              "      <td>age_ratio</td>\n",
              "    </tr>\n",
              "  </tbody>\n",
              "</table>\n",
              "</div>\n",
              "      <button class=\"colab-df-convert\" onclick=\"convertToInteractive('df-99e51735-d95c-4ef1-b520-cf92cc225e58')\"\n",
              "              title=\"Convert this dataframe to an interactive table.\"\n",
              "              style=\"display:none;\">\n",
              "        \n",
              "  <svg xmlns=\"http://www.w3.org/2000/svg\" height=\"24px\"viewBox=\"0 0 24 24\"\n",
              "       width=\"24px\">\n",
              "    <path d=\"M0 0h24v24H0V0z\" fill=\"none\"/>\n",
              "    <path d=\"M18.56 5.44l.94 2.06.94-2.06 2.06-.94-2.06-.94-.94-2.06-.94 2.06-2.06.94zm-11 1L8.5 8.5l.94-2.06 2.06-.94-2.06-.94L8.5 2.5l-.94 2.06-2.06.94zm10 10l.94 2.06.94-2.06 2.06-.94-2.06-.94-.94-2.06-.94 2.06-2.06.94z\"/><path d=\"M17.41 7.96l-1.37-1.37c-.4-.4-.92-.59-1.43-.59-.52 0-1.04.2-1.43.59L10.3 9.45l-7.72 7.72c-.78.78-.78 2.05 0 2.83L4 21.41c.39.39.9.59 1.41.59.51 0 1.02-.2 1.41-.59l7.78-7.78 2.81-2.81c.8-.78.8-2.07 0-2.86zM5.41 20L4 18.59l7.72-7.72 1.47 1.35L5.41 20z\"/>\n",
              "  </svg>\n",
              "      </button>\n",
              "      \n",
              "  <style>\n",
              "    .colab-df-container {\n",
              "      display:flex;\n",
              "      flex-wrap:wrap;\n",
              "      gap: 12px;\n",
              "    }\n",
              "\n",
              "    .colab-df-convert {\n",
              "      background-color: #E8F0FE;\n",
              "      border: none;\n",
              "      border-radius: 50%;\n",
              "      cursor: pointer;\n",
              "      display: none;\n",
              "      fill: #1967D2;\n",
              "      height: 32px;\n",
              "      padding: 0 0 0 0;\n",
              "      width: 32px;\n",
              "    }\n",
              "\n",
              "    .colab-df-convert:hover {\n",
              "      background-color: #E2EBFA;\n",
              "      box-shadow: 0px 1px 2px rgba(60, 64, 67, 0.3), 0px 1px 3px 1px rgba(60, 64, 67, 0.15);\n",
              "      fill: #174EA6;\n",
              "    }\n",
              "\n",
              "    [theme=dark] .colab-df-convert {\n",
              "      background-color: #3B4455;\n",
              "      fill: #D2E3FC;\n",
              "    }\n",
              "\n",
              "    [theme=dark] .colab-df-convert:hover {\n",
              "      background-color: #434B5C;\n",
              "      box-shadow: 0px 1px 3px 1px rgba(0, 0, 0, 0.15);\n",
              "      filter: drop-shadow(0px 1px 2px rgba(0, 0, 0, 0.3));\n",
              "      fill: #FFFFFF;\n",
              "    }\n",
              "  </style>\n",
              "\n",
              "      <script>\n",
              "        const buttonEl =\n",
              "          document.querySelector('#df-99e51735-d95c-4ef1-b520-cf92cc225e58 button.colab-df-convert');\n",
              "        buttonEl.style.display =\n",
              "          google.colab.kernel.accessAllowed ? 'block' : 'none';\n",
              "\n",
              "        async function convertToInteractive(key) {\n",
              "          const element = document.querySelector('#df-99e51735-d95c-4ef1-b520-cf92cc225e58');\n",
              "          const dataTable =\n",
              "            await google.colab.kernel.invokeFunction('convertToInteractive',\n",
              "                                                     [key], {});\n",
              "          if (!dataTable) return;\n",
              "\n",
              "          const docLinkHtml = 'Like what you see? Visit the ' +\n",
              "            '<a target=\"_blank\" href=https://colab.research.google.com/notebooks/data_table.ipynb>data table notebook</a>'\n",
              "            + ' to learn more about interactive tables.';\n",
              "          element.innerHTML = '';\n",
              "          dataTable['output_type'] = 'display_data';\n",
              "          await google.colab.output.renderOutput(dataTable, element);\n",
              "          const docLink = document.createElement('div');\n",
              "          docLink.innerHTML = docLinkHtml;\n",
              "          element.appendChild(docLink);\n",
              "        }\n",
              "      </script>\n",
              "    </div>\n",
              "  </div>\n",
              "  "
            ]
          },
          "metadata": {},
          "execution_count": 31
        }
      ],
      "source": [
        "\n",
        "coef = log_reg.coef_.reshape(42,1)\n",
        "dataframe = pd.DataFrame(coef, columns = [\"Beta Values\"])\n",
        "dataframe[\"Feature\"] = lst\n",
        "dataframe\n",
        "\n"
      ]
    },
    {
      "cell_type": "markdown",
      "metadata": {
        "id": "fexvsicO0UNE"
      },
      "source": [
        "# **3. Decision Tree**"
      ]
    },
    {
      "cell_type": "code",
      "execution_count": null,
      "metadata": {
        "id": "35PVtKEj0WuC",
        "colab": {
          "base_uri": "https://localhost:8080/"
        },
        "outputId": "d578f22d-2ce6-4b8b-9184-2eef5c7ba0fd"
      },
      "outputs": [
        {
          "output_type": "stream",
          "name": "stdout",
          "text": [
            "gini\n",
            "0.9230769230769231\n",
            "entropy\n",
            "0.9384615384615385\n"
          ]
        }
      ],
      "source": [
        "from sklearn.tree import DecisionTreeClassifier\n",
        "crit = [\"gini\", \"entropy\"]\n",
        "for criteria in crit:\n",
        "  print(criteria)\n",
        "  decision_tree = DecisionTreeClassifier(criterion=criteria)\n",
        "  print(cross_val_score(decision_tree, features_scaled, target, cv = 10).mean())\n",
        "\n",
        "#entropy is better"
      ]
    },
    {
      "cell_type": "code",
      "execution_count": null,
      "metadata": {
        "id": "TPOMp-ceJise",
        "colab": {
          "base_uri": "https://localhost:8080/",
          "height": 399
        },
        "outputId": "94a32741-807e-4bb9-d288-78e0c0fdfa0a"
      },
      "outputs": [
        {
          "output_type": "stream",
          "name": "stdout",
          "text": [
            "Accuracy:    0.894737\n",
            "Precision:   1.000000\n",
            "Recall:      0.760000\n",
            "F1 Score:    0.863636\n",
            "AUC of ROC:\n",
            " 0.88\n"
          ]
        },
        {
          "output_type": "display_data",
          "data": {
            "text/plain": [
              "<Figure size 432x288 with 1 Axes>"
            ],
            "image/png": "[encoded data removed]"
          },
          "metadata": {
            "needs_background": "light"
          }
        }
      ],
      "source": [
        "decision_tree = DecisionTreeClassifier(criterion=\"entropy\")\n",
        "decision_tree.fit(features_scaled, target)\n",
        "target_predict = decision_tree.predict(features_scaled_test)\n",
        "print_4_metrics(target_test,target_predict)\n",
        "score=decision_tree.predict_proba(features_scaled_test)[:,1]\n",
        "\n",
        "fpr_log_reg, tpr_log_reg, thresholds = metrics.roc_curve(target_test,score)\n",
        "pyplot.figure(1)\n",
        "pyplot.plot(fpr_log_reg, tpr_log_reg, color='orange', lw=1)\n",
        "pyplot.title(\"ROC curve with Decision Tree\")\n",
        "pyplot.xlabel('FPR')\n",
        "pyplot.ylabel('TPR')\n",
        "\n",
        "aucroc = metrics.auc(fpr_log_reg, tpr_log_reg)\n",
        "print('AUC of ROC:\\n', aucroc)"
      ]
    },
    {
      "cell_type": "code",
      "execution_count": null,
      "metadata": {
        "colab": {
          "base_uri": "https://localhost:8080/"
        },
        "id": "L7e9j-ivLw3o",
        "outputId": "2952946a-0ed9-4fb8-963a-8b604078e342"
      },
      "outputs": [
        {
          "output_type": "stream",
          "name": "stdout",
          "text": [
            "1\n",
            "0.9307692307692307\n",
            "2\n",
            "0.9384615384615385\n",
            "3\n",
            "0.9307692307692307\n",
            "4\n",
            "0.9538461538461538\n",
            "5\n",
            "0.9538461538461538\n",
            "6\n",
            "0.953846153846154\n",
            "7\n",
            "0.953846153846154\n",
            "8\n",
            "0.9384615384615385\n",
            "9\n",
            "0.9384615384615385\n",
            "10\n",
            "0.9384615384615385\n",
            "11\n",
            "0.9384615384615385\n",
            "12\n",
            "0.9384615384615385\n",
            "13\n",
            "0.9384615384615385\n",
            "14\n",
            "0.9384615384615385\n",
            "15\n",
            "0.9384615384615385\n",
            "16\n",
            "0.9384615384615385\n",
            "17\n",
            "0.9384615384615385\n",
            "18\n",
            "0.9384615384615385\n",
            "19\n",
            "0.9384615384615385\n",
            "20\n",
            "0.9384615384615385\n",
            "21\n",
            "0.9384615384615385\n",
            "22\n",
            "0.9384615384615385\n",
            "23\n",
            "0.9384615384615385\n",
            "24\n",
            "0.9384615384615385\n",
            "25\n",
            "0.9384615384615385\n",
            "26\n",
            "0.9384615384615385\n",
            "27\n",
            "0.9384615384615385\n",
            "28\n",
            "0.9384615384615385\n",
            "29\n",
            "0.9384615384615385\n"
          ]
        }
      ],
      "source": [
        "crit = list(range(1,30))\n",
        "for criteria in crit:\n",
        "  print(criteria)\n",
        "  decision_tree = DecisionTreeClassifier(criterion=\"entropy\", min_samples_leaf=criteria)\n",
        "  print(cross_val_score(decision_tree, features_scaled, target, cv = 10).mean())\n",
        "  #best min_samples_leaf=5"
      ]
    },
    {
      "cell_type": "code",
      "execution_count": null,
      "metadata": {
        "colab": {
          "base_uri": "https://localhost:8080/",
          "height": 399
        },
        "id": "BEl9xw9fMc7g",
        "outputId": "9ad9c3c7-5ccc-4fe9-e0ae-e5296222cf81"
      },
      "outputs": [
        {
          "output_type": "stream",
          "name": "stdout",
          "text": [
            "Accuracy:    0.912281\n",
            "Precision:   0.916667\n",
            "Recall:      0.880000\n",
            "F1 Score:    0.897959\n",
            "AUC of ROC:\n",
            " 0.92875\n"
          ]
        },
        {
          "output_type": "display_data",
          "data": {
            "text/plain": [
              "<Figure size 432x288 with 1 Axes>"
            ],
            "image/png": "[encoded data removed]"
          },
          "metadata": {
            "needs_background": "light"
          }
        }
      ],
      "source": [
        "decision_tree = DecisionTreeClassifier(criterion=\"entropy\",min_samples_leaf=5)\n",
        "decision_tree.fit(features_scaled, target)\n",
        "target_predict = decision_tree.predict(features_scaled_test)\n",
        "print_4_metrics(target_test,target_predict)\n",
        "score=decision_tree.predict_proba(features_scaled_test)[:,1]\n",
        "\n",
        "fpr_log_reg, tpr_log_reg, thresholds = metrics.roc_curve(target_test,score)\n",
        "pyplot.figure(1)\n",
        "pyplot.plot(fpr_log_reg, tpr_log_reg, color='orange', lw=1)\n",
        "pyplot.title(\"ROC curve with Decision Tree\")\n",
        "pyplot.xlabel('FPR')\n",
        "pyplot.ylabel('TPR')\n",
        "\n",
        "aucroc = metrics.auc(fpr_log_reg, tpr_log_reg)\n",
        "print('AUC of ROC:\\n', aucroc)"
      ]
    },
    {
      "cell_type": "code",
      "execution_count": null,
      "metadata": {
        "colab": {
          "base_uri": "https://localhost:8080/"
        },
        "id": "RXGACWr_NFX7",
        "outputId": "036e687a-ffe7-47db-a2a4-e00d7099a799"
      },
      "outputs": [
        {
          "output_type": "stream",
          "name": "stdout",
          "text": [
            "0.0\n",
            "0.9538461538461538\n",
            "0.1\n",
            "0.923076923076923\n",
            "0.2\n",
            "0.9384615384615385\n",
            "0.3\n",
            "0.9384615384615385\n",
            "0.4\n",
            "0.9384615384615385\n",
            "0.5\n",
            "0.9384615384615385\n",
            "0.6\n",
            "0.9384615384615385\n",
            "0.7\n",
            "0.9384615384615385\n",
            "0.8\n",
            "0.5615384615384615\n",
            "0.9\n",
            "0.5384615384615384\n",
            "1\n",
            "0.5384615384615384\n",
            "2\n",
            "0.5384615384615384\n",
            "3\n",
            "0.5384615384615384\n",
            "4\n",
            "0.5384615384615384\n"
          ]
        }
      ],
      "source": [
        "crit = [0.0, 0.1, 0.2, 0.3, 0.4, 0.5, 0.6, 0.7, 0.8, 0.9, 1, 2, 3, 4]\n",
        "# crit = [0.0, 0.01, 0.02, 0.03, 0.04, 0.05, 0.06, 0.07, 0.08, 0.09]\n",
        "for criteria in crit:\n",
        "  print(criteria)\n",
        "  decision_tree = DecisionTreeClassifier(criterion=\"entropy\", min_samples_leaf=5, min_impurity_decrease = criteria)\n",
        "  print(cross_val_score(decision_tree, features_scaled, target, cv = 10).mean())\n",
        "\n",
        "# min_impurity_decrease = 0.0"
      ]
    },
    {
      "cell_type": "code",
      "execution_count": null,
      "metadata": {
        "colab": {
          "base_uri": "https://localhost:8080/",
          "height": 399
        },
        "id": "4rvn0cqDOu_y",
        "outputId": "b2490837-4a6e-491d-f17c-8544205874d5"
      },
      "outputs": [
        {
          "output_type": "stream",
          "name": "stdout",
          "text": [
            "Accuracy:    0.912281\n",
            "Precision:   0.916667\n",
            "Recall:      0.880000\n",
            "F1 Score:    0.897959\n",
            "AUC of ROC:\n",
            " 0.92875\n"
          ]
        },
        {
          "output_type": "display_data",
          "data": {
            "text/plain": [
              "<Figure size 432x288 with 1 Axes>"
            ],
            "image/png": "[encoded data removed]"
          },
          "metadata": {
            "needs_background": "light"
          }
        }
      ],
      "source": [
        "decision_tree = DecisionTreeClassifier(criterion=\"entropy\",min_samples_leaf=5, min_impurity_decrease = 0.0)\n",
        "decision_tree.fit(features_scaled, target)\n",
        "target_predict = decision_tree.predict(features_scaled_test)\n",
        "print_4_metrics(target_test,target_predict)\n",
        "score=decision_tree.predict_proba(features_scaled_test)[:,1]\n",
        "\n",
        "fpr_log_reg, tpr_log_reg, thresholds = metrics.roc_curve(target_test,score)\n",
        "pyplot.figure(1)\n",
        "pyplot.plot(fpr_log_reg, tpr_log_reg, color='orange', lw=1)\n",
        "pyplot.title(\"ROC curve with Decision Tree\")\n",
        "pyplot.xlabel('FPR')\n",
        "pyplot.ylabel('TPR')\n",
        "\n",
        "aucroc = metrics.auc(fpr_log_reg, tpr_log_reg)\n",
        "print('AUC of ROC:\\n', aucroc)"
      ]
    },
    {
      "cell_type": "code",
      "execution_count": null,
      "metadata": {
        "colab": {
          "base_uri": "https://localhost:8080/",
          "height": 265
        },
        "id": "7c6Ij8eyxouD",
        "outputId": "2f1d548c-206a-410e-fb01-ee1628749a2d"
      },
      "outputs": [
        {
          "output_type": "display_data",
          "data": {
            "text/plain": [
              "<Figure size 432x288 with 1 Axes>"
            ],
            "image/png": "[encoded data removed]"
          },
          "metadata": {
            "needs_background": "light"
          }
        },
        {
          "output_type": "display_data",
          "data": {
            "text/plain": [
              "<Figure size 36000x36000 with 0 Axes>"
            ]
          },
          "metadata": {}
        }
      ],
      "source": [
        "from sklearn import tree\n",
        "tree.plot_tree(decision_tree, feature_names = lst)\n",
        "plt.figure(figsize=(500,500))\n",
        "plt.show()"
      ]
    },
    {
      "cell_type": "code",
      "execution_count": null,
      "metadata": {
        "colab": {
          "base_uri": "https://localhost:8080/",
          "height": 296
        },
        "id": "jkD5u9guhS-D",
        "outputId": "edf188a0-926a-44e0-f276-661f83df2f3c"
      },
      "outputs": [
        {
          "output_type": "execute_result",
          "data": {
            "text/plain": [
              "<sklearn.metrics._plot.confusion_matrix.ConfusionMatrixDisplay at 0x7f8b3fcf74d0>"
            ]
          },
          "metadata": {},
          "execution_count": 41
        },
        {
          "output_type": "display_data",
          "data": {
            "text/plain": [
              "<Figure size 432x288 with 2 Axes>"
            ],
            "image/png": "[encoded data removed]"
          },
          "metadata": {
            "needs_background": "light"
          }
        }
      ],
      "source": [
        "from sklearn.metrics import confusion_matrix, ConfusionMatrixDisplay\n",
        "cf = confusion_matrix(target_test, prediction)\n",
        "cf = ConfusionMatrixDisplay(cf)\n",
        "cf.plot()"
      ]
    },
    {
      "cell_type": "markdown",
      "metadata": {
        "id": "4DiljSFK46VY"
      },
      "source": [
        "# **4. Support Vector Machine**"
      ]
    },
    {
      "cell_type": "markdown",
      "metadata": {
        "id": "EFsA1fAgjPSk"
      },
      "source": [
        "**4.1 Implement SVM**\n",
        "\n",
        "\n",
        "---\n",
        "\n"
      ]
    },
    {
      "cell_type": "code",
      "execution_count": null,
      "metadata": {
        "colab": {
          "base_uri": "https://localhost:8080/",
          "height": 416
        },
        "id": "pNqKIu7o3U1W",
        "outputId": "40ee6418-5bc6-4376-dfb7-95f568b1bcdb"
      },
      "outputs": [
        {
          "output_type": "stream",
          "name": "stdout",
          "text": [
            "Accuracy:    0.842105\n",
            "Precision:   0.766667\n",
            "Recall:      0.920000\n",
            "F1 Score:    0.836364\n",
            "SVM Performance Results:\n",
            "\n",
            "AUC of ROC:  0.9550000000000001\n"
          ]
        },
        {
          "output_type": "display_data",
          "data": {
            "text/plain": [
              "<Figure size 432x288 with 1 Axes>"
            ],
            "image/png": "[encoded data removed]"
          },
          "metadata": {
            "needs_background": "light"
          }
        }
      ],
      "source": [
        "import matplotlib.pyplot as plt\n",
        "from matplotlib import pyplot\n",
        "svm=SVC(probability=True)\n",
        "svm.fit(features_scaled,target)\n",
        "prediction=svm.predict(features_scaled_test)\n",
        "score=svm.predict_proba(features_scaled_test)[:,1]\n",
        "\n",
        "print_4_metrics(target_test,prediction)\n",
        "\n",
        "fpr_log_reg, tpr_log_reg, thresholds = metrics.roc_curve(target_test,score)\n",
        "print(\"SVM Performance Results:\\n\")\n",
        "pyplot.figure(1)\n",
        "pyplot.plot(fpr_log_reg, tpr_log_reg, color='orange', lw=1)\n",
        "pyplot.title(\"ROC curve with SVM\")\n",
        "pyplot.xlabel('FPR')\n",
        "pyplot.ylabel('TPR')\n",
        "\n",
        "aucroc = metrics.auc(fpr_log_reg, tpr_log_reg)\n",
        "print('AUC of ROC: ', aucroc)\n",
        "\n"
      ]
    },
    {
      "cell_type": "markdown",
      "metadata": {
        "id": "UbCLbg9fjq59"
      },
      "source": [
        "**4.2 Selecting Optimal Kernel**\n",
        "\n",
        "\n",
        "---\n",
        "\n"
      ]
    },
    {
      "cell_type": "code",
      "execution_count": null,
      "metadata": {
        "colab": {
          "base_uri": "https://localhost:8080/"
        },
        "id": "TDE0PyfVDoqj",
        "outputId": "23450bab-c185-4949-e299-29d52bd5416f"
      },
      "outputs": [
        {
          "output_type": "stream",
          "name": "stdout",
          "text": [
            "for kernel:linear\n",
            "Accuracy:0.9307692307692308\n",
            "\n",
            "for kernel:poly\n",
            "Accuracy:0.6538461538461539\n",
            "\n",
            "for kernel:sigmoid\n",
            "Accuracy:0.8692307692307694\n",
            "\n"
          ]
        }
      ],
      "source": [
        "kernel_list=['linear', 'poly','sigmoid']\n",
        "for kernel in kernel_list:\n",
        "  print(\"for kernel:\"+kernel)\n",
        "  svm=SVC(kernel = kernel, probability=True)\n",
        "  svm.fit(features_scaled,target)\n",
        "  prediction=svm.predict(features_scaled_test)\n",
        "  score=svm.predict_proba(features_scaled_test)[:,1]\n",
        "  print('Accuracy:'+ str(cross_val_score(svm, features_scaled, target, cv = 10, scoring = 'accuracy').mean()))\n",
        "  print(\"\")\n",
        "\n",
        "#linear kernel is the best"
      ]
    },
    {
      "cell_type": "markdown",
      "metadata": {
        "id": "1c3JjY89jzMS"
      },
      "source": [
        "**4.3 Selecting Optimal Lambda**\n",
        "\n",
        "\n",
        "---\n"
      ]
    },
    {
      "cell_type": "code",
      "execution_count": null,
      "metadata": {
        "colab": {
          "base_uri": "https://localhost:8080/"
        },
        "id": "ZiLrqy9OAOGT",
        "outputId": "5e785c67-2bad-487b-c6d3-c68e37039676"
      },
      "outputs": [
        {
          "output_type": "stream",
          "name": "stdout",
          "text": [
            "for C:0.1\n",
            "Accuracy:0.8615384615384617\n",
            "\n",
            "for C:0.2\n",
            "Accuracy:0.9076923076923078\n",
            "\n",
            "for C:0.3\n",
            "Accuracy:0.9384615384615385\n",
            "\n",
            "for C:0.5\n",
            "Accuracy:0.9461538461538461\n",
            "\n",
            "for C:0.6\n",
            "Accuracy:0.9384615384615385\n",
            "\n",
            "for C:0.7\n",
            "Accuracy:0.9384615384615385\n",
            "\n",
            "for C:0.8\n",
            "Accuracy:0.9384615384615385\n",
            "\n",
            "for C:0.9\n",
            "Accuracy:0.9307692307692308\n",
            "\n",
            "for C:1\n",
            "Accuracy:0.9307692307692308\n",
            "\n",
            "for C:2\n",
            "Accuracy:0.9307692307692308\n",
            "\n",
            "for C:3\n",
            "Accuracy:0.9307692307692308\n",
            "\n",
            "for C:4\n",
            "Accuracy:0.9307692307692308\n",
            "\n"
          ]
        }
      ],
      "source": [
        "lam1=[0.1,0.2,0.3,0.5,0.6,0.7,0.8,0.9,1,2,3,4]\n",
        "for lam in lam1:\n",
        "  print(\"for C:\"+str(lam))\n",
        "  svm=SVC(kernel = \"linear\", probability=True, C = lam)\n",
        "  svm.fit(features_scaled,target)\n",
        "  prediction=svm.predict(features_scaled_test)\n",
        "  score=svm.predict_proba(features_scaled_test)[:,1]\n",
        "  print('Accuracy:'+ str(cross_val_score(svm, features_scaled, target, cv = 10, scoring = 'accuracy').mean()))\n",
        "  print(\"\")\n",
        "\n",
        "# lam = 1/0.5=2"
      ]
    },
    {
      "cell_type": "markdown",
      "metadata": {
        "id": "LhwusnAilbt0"
      },
      "source": [
        "**4.4 Final Performance**\n",
        "\n",
        "---\n",
        "\n"
      ]
    },
    {
      "cell_type": "code",
      "execution_count": null,
      "metadata": {
        "colab": {
          "base_uri": "https://localhost:8080/",
          "height": 451
        },
        "id": "vp0Qs37H92Bi",
        "outputId": "12364fe0-99f8-4205-947c-a253631213e6"
      },
      "outputs": [
        {
          "output_type": "stream",
          "name": "stdout",
          "text": [
            "for lambda of 2 and linear kernel:\n",
            "Accuracy:    0.912281\n",
            "Precision:   0.884615\n",
            "Recall:      0.920000\n",
            "F1 Score:    0.901961\n",
            "SVM Performance Results:\n",
            "AUC of ROC:\n",
            " 0.9762500000000001\n",
            "\n"
          ]
        },
        {
          "output_type": "display_data",
          "data": {
            "text/plain": [
              "<Figure size 432x288 with 1 Axes>"
            ],
            "image/png": "[encoded data removed]"
          },
          "metadata": {
            "needs_background": "light"
          }
        }
      ],
      "source": [
        "print(\"for lambda of 2 \"+\"and linear kernel:\")\n",
        "svm=SVC(kernel = \"linear\", probability=True, C = 0.5)\n",
        "svm.fit(features_scaled,target)\n",
        "prediction=svm.predict(features_scaled_test)\n",
        "score=svm.predict_proba(features_scaled_test)[:,1]\n",
        "print_4_metrics(target_test,prediction)\n",
        "\n",
        "fpr_log_reg, tpr_log_reg, thresholds = metrics.roc_curve(target_test,score)\n",
        "print(\"SVM Performance Results:\")\n",
        "pyplot.figure(1)\n",
        "pyplot.plot(fpr_log_reg, tpr_log_reg, color='orange', lw=1)\n",
        "pyplot.title(\"ROC curve with SVM\")\n",
        "pyplot.xlabel('FPR')\n",
        "pyplot.ylabel('TPR')\n",
        "\n",
        "aucroc = metrics.auc(fpr_log_reg, tpr_log_reg)\n",
        "print('AUC of ROC:\\n', aucroc)\n",
        "print()"
      ]
    },
    {
      "cell_type": "code",
      "execution_count": null,
      "metadata": {
        "colab": {
          "base_uri": "https://localhost:8080/",
          "height": 296
        },
        "id": "wov_JojMghb2",
        "outputId": "ba2cb036-aa6d-46c8-c9f9-c2c63b171d9f"
      },
      "outputs": [
        {
          "output_type": "execute_result",
          "data": {
            "text/plain": [
              "<sklearn.metrics._plot.confusion_matrix.ConfusionMatrixDisplay at 0x7f8b3fd1fd10>"
            ]
          },
          "metadata": {},
          "execution_count": 46
        },
        {
          "output_type": "display_data",
          "data": {
            "text/plain": [
              "<Figure size 432x288 with 2 Axes>"
            ],
            "image/png": "[encoded data removed]"
          },
          "metadata": {
            "needs_background": "light"
          }
        }
      ],
      "source": [
        "from sklearn.metrics import confusion_matrix, ConfusionMatrixDisplay\n",
        "cf = confusion_matrix(target_test, prediction)\n",
        "cf = ConfusionMatrixDisplay(cf)\n",
        "cf.plot()"
      ]
    },
    {
      "cell_type": "markdown",
      "metadata": {
        "id": "v8wEe-QgZn1U"
      },
      "source": [
        "# **5. Deep Learning - Convolutional Neural Network**"
      ]
    },
    {
      "cell_type": "code",
      "execution_count": null,
      "metadata": {
        "id": "XnUJ4-ahgF-0"
      },
      "outputs": [],
      "source": [
        "import os\n",
        "from PIL import Image, ImageFile\n",
        "target = []\n",
        "import numpy"
      ]
    },
    {
      "cell_type": "code",
      "execution_count": null,
      "metadata": {
        "colab": {
          "base_uri": "https://localhost:8080/"
        },
        "id": "peTeOWcYC7G-",
        "outputId": "a9204ddc-7673-4fe1-e203-eebb2717cb31"
      },
      "outputs": [
        {
          "output_type": "stream",
          "name": "stdout",
          "text": [
            "Drive already mounted at /content/drive; to attempt to forcibly remount, call drive.mount(\"/content/drive\", force_remount=True).\n"
          ]
        }
      ],
      "source": [
        "from google.colab import drive\n",
        "drive.mount(\"/content/drive\")\n",
        "entries = os.listdir(\"/content/drive/MyDrive/Leukemia/Original/Benign\")\n",
        "benign_lst = []\n",
        "\n",
        "for entry in entries:\n",
        "    img = Image.open('/content/drive/MyDrive/Leukemia/Original/Benign/' + entry)\n",
        "    img = numpy.asarray(img)\n",
        "    benign_lst.append(img)\n",
        "    target.append(0)"
      ]
    },
    {
      "cell_type": "code",
      "execution_count": null,
      "metadata": {
        "colab": {
          "base_uri": "https://localhost:8080/"
        },
        "id": "hv_-RyqxDfoI",
        "outputId": "3572e097-ef4d-4baf-ba49-5f6313c1106c"
      },
      "outputs": [
        {
          "output_type": "stream",
          "name": "stdout",
          "text": [
            "Drive already mounted at /content/drive; to attempt to forcibly remount, call drive.mount(\"/content/drive\", force_remount=True).\n"
          ]
        }
      ],
      "source": [
        "from google.colab import drive\n",
        "drive.mount(\"/content/drive\")\n",
        "entries = os.listdir(\"/content/drive/MyDrive/Leukemia/Original/Early\")\n",
        "early_lst = []\n",
        "\n",
        "for entry in entries:\n",
        "    img = Image.open('/content/drive/MyDrive/Leukemia/Original/Early/' + entry)\n",
        "    img = numpy.asarray(img)\n",
        "    benign_lst.append(img)\n",
        "    target.append(1)"
      ]
    },
    {
      "cell_type": "code",
      "execution_count": null,
      "metadata": {
        "id": "3qTCc9uuFeZ3",
        "colab": {
          "base_uri": "https://localhost:8080/"
        },
        "outputId": "d20187cb-5dc3-453a-f16f-c1c51241d99c"
      },
      "outputs": [
        {
          "output_type": "stream",
          "name": "stdout",
          "text": [
            "Drive already mounted at /content/drive; to attempt to forcibly remount, call drive.mount(\"/content/drive\", force_remount=True).\n"
          ]
        }
      ],
      "source": [
        "from google.colab import drive\n",
        "drive.mount(\"/content/drive\")\n",
        "entries = os.listdir(\"/content/drive/MyDrive/Leukemia/Original/Pre\")\n",
        "pre_lst = []\n",
        "\n",
        "for entry in entries:\n",
        "    img = Image.open('/content/drive/MyDrive/Leukemia/Original/Pre/' + entry)\n",
        "    img = numpy.asarray(img)\n",
        "    benign_lst.append(img)\n",
        "    target.append(2)"
      ]
    },
    {
      "cell_type": "code",
      "execution_count": null,
      "metadata": {
        "id": "iBy7yZP_Fqpt",
        "colab": {
          "base_uri": "https://localhost:8080/"
        },
        "outputId": "fd0e50a3-6a45-4834-e5ed-62e9e2c420d5"
      },
      "outputs": [
        {
          "output_type": "stream",
          "name": "stdout",
          "text": [
            "Drive already mounted at /content/drive; to attempt to forcibly remount, call drive.mount(\"/content/drive\", force_remount=True).\n"
          ]
        }
      ],
      "source": [
        "from google.colab import drive\n",
        "drive.mount(\"/content/drive\")\n",
        "entries = os.listdir(\"/content/drive/MyDrive/Leukemia/Original/Pro\")\n",
        "pro_lst = []\n",
        "\n",
        "for entry in entries:\n",
        "    img = Image.open('/content/drive/MyDrive/Leukemia/Original/Pro/' + entry)\n",
        "    img = numpy.asarray(img)\n",
        "    benign_lst.append(img)\n",
        "    target.append(3)"
      ]
    },
    {
      "cell_type": "code",
      "execution_count": null,
      "metadata": {
        "id": "LLXIdoRFF3fI"
      },
      "outputs": [],
      "source": [
        "X = benign_lst + early_lst + pre_lst + pro_lst\n",
        "X = numpy.array(X)"
      ]
    },
    {
      "cell_type": "code",
      "execution_count": null,
      "metadata": {
        "id": "2tAWrf1kF_5d"
      },
      "outputs": [],
      "source": [
        "target = numpy.array(target)"
      ]
    },
    {
      "cell_type": "code",
      "execution_count": null,
      "metadata": {
        "id": "3LYzSZ2AGenP"
      },
      "outputs": [],
      "source": [
        "X = X.reshape(3256, 224*224*3)"
      ]
    },
    {
      "cell_type": "code",
      "execution_count": null,
      "metadata": {
        "id": "6sSs2IWMpc6N",
        "colab": {
          "base_uri": "https://localhost:8080/",
          "height": 265
        },
        "outputId": "0a3c1771-b577-4339-f898-edf45df6ff3d"
      },
      "outputs": [
        {
          "output_type": "display_data",
          "data": {
            "text/plain": [
              "<Figure size 432x288 with 1 Axes>"
            ],
            "image/png": "[encoded data removed]"
          },
          "metadata": {
            "needs_background": "light"
          }
        }
      ],
      "source": [
        "plt.hist(target, bins = 10)\n",
        "plt.show()"
      ]
    },
    {
      "cell_type": "code",
      "execution_count": null,
      "metadata": {
        "id": "doLzypjGGiPD"
      },
      "outputs": [],
      "source": [
        "from imblearn.over_sampling import RandomOverSampler\n",
        "ros = RandomOverSampler(random_state=10)\n",
        "X_resampled, y_resampled = ros.fit_resample(X, target)"
      ]
    },
    {
      "cell_type": "code",
      "execution_count": null,
      "metadata": {
        "id": "I3aPWSICGlIh"
      },
      "outputs": [],
      "source": [
        "X = X_resampled.reshape(3940, 224, 224, 3)"
      ]
    },
    {
      "cell_type": "code",
      "execution_count": null,
      "metadata": {
        "id": "lzfRGbuHGpOu"
      },
      "outputs": [],
      "source": [
        "target = y_resampled"
      ]
    },
    {
      "cell_type": "code",
      "execution_count": null,
      "metadata": {
        "id": "k7A_X9OoGrDp"
      },
      "outputs": [],
      "source": [
        "from keras.models import Sequential\n",
        "from keras.layers import Dense, Conv2D, Flatten\n",
        "from tensorflow.keras.layers import Input, Lambda, Dense, Flatten,Conv2D\n",
        "from tensorflow.keras.models import Model\n",
        "from tensorflow.keras.applications.vgg19 import VGG19\n",
        "from tensorflow.keras.applications.resnet50 import preprocess_input\n",
        "from tensorflow.keras.preprocessing import image\n",
        "from tensorflow.keras.preprocessing.image import ImageDataGenerator,load_img\n",
        "from tensorflow.keras.models import Sequential\n",
        "from tensorflow.keras.layers import MaxPooling2D\n",
        "from tensorflow.keras.layers import Dropout\n",
        "from keras.regularizers import l1"
      ]
    },
    {
      "cell_type": "code",
      "execution_count": null,
      "metadata": {
        "id": "YJyYX0lzGsxK"
      },
      "outputs": [],
      "source": [
        "model = Sequential()\n",
        "model.add(Conv2D(filters = 5, kernel_size=(3,3), padding = 'same', activation='relu', input_shape=(224,224,3), kernel_regularizer  = l1(0.001)))\n",
        "model.add(MaxPooling2D(pool_size=(2,2)))\n",
        "model.add(Conv2D(filters = 5, kernel_size=(5,5),padding=\"same\",activation =\"relu\", kernel_regularizer  = l1(0.001)))\n",
        "model.add(MaxPooling2D(pool_size=(2,2)))\n",
        "model.add(Conv2D(filters=5,kernel_size=(7,7),padding=\"same\",activation=\"relu\", kernel_regularizer  = l1(0.001)))\n",
        "model.add(MaxPooling2D(pool_size=(2,2)))\n",
        "model.add(Flatten())\n",
        "model.add(Dense(50,activation=\"relu\", kernel_regularizer  = l1(0.002)))\n",
        "model.add(Dense(50,activation=\"relu\", kernel_regularizer  = l1(0.002)))\n",
        "model.add(Dense(50,activation=\"relu\"))\n",
        "model.add(Dense(50,activation=\"relu\", kernel_regularizer  = l1(0.002)))\n",
        "model.add(Dense(50,activation=\"relu\", kernel_regularizer  = l1(0.002)))\n",
        "model.add(Dense(4, activation = \"softmax\", kernel_regularizer  = l1(0.002)))\n",
        "model.compile(optimizer='adam', loss='categorical_crossentropy', metrics=['accuracy'])"
      ]
    },
    {
      "cell_type": "code",
      "execution_count": null,
      "metadata": {
        "id": "jppEMMbOGwSh",
        "colab": {
          "base_uri": "https://localhost:8080/"
        },
        "outputId": "63b0289b-85d3-45ed-ffe1-e89616b74f8d"
      },
      "outputs": [
        {
          "output_type": "execute_result",
          "data": {
            "text/plain": [
              "OneHotEncoder(handle_unknown='ignore')"
            ]
          },
          "metadata": {},
          "execution_count": 157
        }
      ],
      "source": [
        "from sklearn.model_selection import train_test_split\n",
        "X_train, X_test, y_train, y_test = train_test_split(X, target, test_size = 0.2, random_state = 30)\n",
        "X_train, X_val, y_train, y_val = train_test_split(X_train, y_train, test_size = 0.2, random_state = 30)\n",
        "from sklearn.preprocessing import OneHotEncoder\n",
        "import tensorflow as tf\n",
        "tf.config.run_functions_eagerly(True)\n",
        "enc = OneHotEncoder(handle_unknown='ignore')\n",
        "y_train = y_train.reshape(-1,1)\n",
        "enc.fit(y_train)"
      ]
    },
    {
      "cell_type": "code",
      "execution_count": null,
      "metadata": {
        "id": "vjGiHUAKG1sh"
      },
      "outputs": [],
      "source": [
        "y_train = enc.transform(y_train).toarray()\n"
      ]
    },
    {
      "cell_type": "code",
      "execution_count": null,
      "metadata": {
        "id": "JMlY5OjJXJJb"
      },
      "outputs": [],
      "source": [
        "y_test = y_test.reshape(-1,1)\n",
        "enc.fit(y_test)\n",
        "y_test = enc.transform(y_test).toarray()"
      ]
    },
    {
      "cell_type": "code",
      "execution_count": null,
      "metadata": {
        "id": "A1Jt9L7DbbN3"
      },
      "outputs": [],
      "source": [
        "y_val = y_val.reshape(-1,1)\n",
        "enc.fit(y_val)\n",
        "y_val = enc.transform(y_val).toarray()"
      ]
    },
    {
      "cell_type": "code",
      "execution_count": null,
      "metadata": {
        "id": "ydp0e7mmG9j-",
        "colab": {
          "base_uri": "https://localhost:8080/"
        },
        "outputId": "eccc4149-b24a-4ad3-cd55-f653438a650d"
      },
      "outputs": [
        {
          "output_type": "stream",
          "name": "stdout",
          "text": [
            "Epoch 1/25\n"
          ]
        },
        {
          "output_type": "stream",
          "name": "stderr",
          "text": [
            "/usr/local/lib/python3.7/dist-packages/tensorflow/python/data/ops/structured_function.py:265: UserWarning: Even though the `tf.config.experimental_run_functions_eagerly` option is set, this option does not apply to tf.data functions. To force eager execution of tf.data functions, please use `tf.data.experimental.enable_debug_mode()`.\n",
            "  \"Even though the `tf.config.experimental_run_functions_eagerly` \"\n"
          ]
        },
        {
          "output_type": "stream",
          "name": "stdout",
          "text": [
            "79/79 [==============================] - 4s 46ms/step - loss: 9.0184 - accuracy: 0.4161 - val_loss: 5.6514 - val_accuracy: 0.5975\n",
            "Epoch 2/25\n",
            "79/79 [==============================] - 3s 43ms/step - loss: 5.1040 - accuracy: 0.6589 - val_loss: 4.6929 - val_accuracy: 0.7401\n",
            "Epoch 3/25\n",
            "79/79 [==============================] - 3s 43ms/step - loss: 4.4319 - accuracy: 0.7307 - val_loss: 4.1986 - val_accuracy: 0.7258\n",
            "Epoch 4/25\n",
            "79/79 [==============================] - 3s 40ms/step - loss: 4.1051 - accuracy: 0.7410 - val_loss: 4.0266 - val_accuracy: 0.7147\n",
            "Epoch 5/25\n",
            "79/79 [==============================] - 3s 40ms/step - loss: 3.7065 - accuracy: 0.8056 - val_loss: 3.5730 - val_accuracy: 0.8304\n",
            "Epoch 6/25\n",
            "79/79 [==============================] - 3s 40ms/step - loss: 3.4620 - accuracy: 0.8152 - val_loss: 3.2950 - val_accuracy: 0.8653\n",
            "Epoch 7/25\n",
            "79/79 [==============================] - 3s 44ms/step - loss: 3.1900 - accuracy: 0.8417 - val_loss: 3.0834 - val_accuracy: 0.8685\n",
            "Epoch 8/25\n",
            "79/79 [==============================] - 3s 43ms/step - loss: 2.9732 - accuracy: 0.8596 - val_loss: 2.9960 - val_accuracy: 0.7971\n",
            "Epoch 9/25\n",
            "79/79 [==============================] - 3s 40ms/step - loss: 2.7996 - accuracy: 0.8774 - val_loss: 2.7896 - val_accuracy: 0.8241\n",
            "Epoch 10/25\n",
            "79/79 [==============================] - 3s 40ms/step - loss: 2.6632 - accuracy: 0.8873 - val_loss: 2.6040 - val_accuracy: 0.9049\n",
            "Epoch 11/25\n",
            "79/79 [==============================] - 3s 44ms/step - loss: 2.5133 - accuracy: 0.8834 - val_loss: 2.4553 - val_accuracy: 0.8875\n",
            "Epoch 12/25\n",
            "79/79 [==============================] - 3s 40ms/step - loss: 2.3605 - accuracy: 0.9040 - val_loss: 2.3713 - val_accuracy: 0.8859\n",
            "Epoch 13/25\n",
            "79/79 [==============================] - 3s 43ms/step - loss: 2.2377 - accuracy: 0.9230 - val_loss: 2.2224 - val_accuracy: 0.8970\n",
            "Epoch 14/25\n",
            "79/79 [==============================] - 3s 39ms/step - loss: 2.1428 - accuracy: 0.9191 - val_loss: 2.1848 - val_accuracy: 0.9002\n",
            "Epoch 15/25\n",
            "79/79 [==============================] - 3s 43ms/step - loss: 2.0329 - accuracy: 0.9353 - val_loss: 2.0472 - val_accuracy: 0.9065\n",
            "Epoch 16/25\n",
            "79/79 [==============================] - 3s 43ms/step - loss: 2.0087 - accuracy: 0.9135 - val_loss: 2.0019 - val_accuracy: 0.8986\n",
            "Epoch 17/25\n",
            "79/79 [==============================] - 3s 39ms/step - loss: 1.9120 - accuracy: 0.9219 - val_loss: 2.3443 - val_accuracy: 0.7211\n",
            "Epoch 18/25\n",
            "79/79 [==============================] - 3s 43ms/step - loss: 1.8177 - accuracy: 0.9357 - val_loss: 1.9437 - val_accuracy: 0.8637\n",
            "Epoch 19/25\n",
            "79/79 [==============================] - 3s 43ms/step - loss: 1.7143 - accuracy: 0.9484 - val_loss: 1.7623 - val_accuracy: 0.9208\n",
            "Epoch 20/25\n",
            "79/79 [==============================] - 3s 43ms/step - loss: 1.6002 - accuracy: 0.9671 - val_loss: 1.7865 - val_accuracy: 0.8843\n",
            "Epoch 21/25\n",
            "79/79 [==============================] - 3s 40ms/step - loss: 1.6482 - accuracy: 0.9373 - val_loss: 1.7780 - val_accuracy: 0.9033\n",
            "Epoch 22/25\n",
            "79/79 [==============================] - 3s 40ms/step - loss: 1.5472 - accuracy: 0.9611 - val_loss: 1.5815 - val_accuracy: 0.9303\n",
            "Epoch 23/25\n",
            "79/79 [==============================] - 3s 39ms/step - loss: 1.4639 - accuracy: 0.9639 - val_loss: 1.7060 - val_accuracy: 0.8748\n",
            "Epoch 24/25\n",
            "79/79 [==============================] - 3s 40ms/step - loss: 1.3897 - accuracy: 0.9770 - val_loss: 1.5136 - val_accuracy: 0.9239\n",
            "Epoch 25/25\n",
            "79/79 [==============================] - 3s 43ms/step - loss: 1.3168 - accuracy: 0.9806 - val_loss: 1.4538 - val_accuracy: 0.9287\n"
          ]
        },
        {
          "output_type": "execute_result",
          "data": {
            "text/plain": [
              "<keras.callbacks.History at 0x7f8a4e1260d0>"
            ]
          },
          "metadata": {},
          "execution_count": 161
        }
      ],
      "source": [
        "X_train = numpy.array(X_train)\n",
        "X_test = numpy.array(X_test)\n",
        "y_train = numpy.array(y_train)\n",
        "y_test = numpy.array(y_test)\n",
        "model.fit(X_train, y_train, validation_data=(X_val, y_val), epochs=25)"
      ]
    },
    {
      "cell_type": "code",
      "execution_count": null,
      "metadata": {
        "id": "imqN9mNNHCJG",
        "colab": {
          "base_uri": "https://localhost:8080/"
        },
        "outputId": "324dc7aa-0fee-4509-fb57-205152807323"
      },
      "outputs": [
        {
          "output_type": "stream",
          "name": "stderr",
          "text": [
            "/usr/local/lib/python3.7/dist-packages/tensorflow/python/data/ops/structured_function.py:265: UserWarning: Even though the `tf.config.experimental_run_functions_eagerly` option is set, this option does not apply to tf.data functions. To force eager execution of tf.data functions, please use `tf.data.experimental.enable_debug_mode()`.\n",
            "  \"Even though the `tf.config.experimental_run_functions_eagerly` \"\n"
          ]
        }
      ],
      "source": [
        "prob = model.predict(X_test)"
      ]
    },
    {
      "cell_type": "code",
      "execution_count": null,
      "metadata": {
        "id": "-eYECQluTghE"
      },
      "outputs": [],
      "source": [
        "pred = tf.argmax(prob, axis=-1)"
      ]
    },
    {
      "cell_type": "code",
      "execution_count": null,
      "metadata": {
        "id": "92RSahY5UGix"
      },
      "outputs": [],
      "source": []
    },
    {
      "cell_type": "code",
      "execution_count": null,
      "metadata": {
        "id": "-oV1lm9IUJSj"
      },
      "outputs": [],
      "source": [
        "from sklearn.metrics import confusion_matrix, ConfusionMatrixDisplay"
      ]
    },
    {
      "cell_type": "code",
      "execution_count": null,
      "metadata": {
        "id": "TOXTg0QkVLS4",
        "colab": {
          "base_uri": "https://localhost:8080/",
          "height": 296
        },
        "outputId": "be8ef014-1bbf-426e-c6e4-79b4aa7ee89f"
      },
      "outputs": [
        {
          "output_type": "execute_result",
          "data": {
            "text/plain": [
              "<sklearn.metrics._plot.confusion_matrix.ConfusionMatrixDisplay at 0x7f8a4e295c10>"
            ]
          },
          "metadata": {},
          "execution_count": 165
        },
        {
          "output_type": "display_data",
          "data": {
            "text/plain": [
              "<Figure size 432x288 with 2 Axes>"
            ],
            "image/png": "[encoded data removed]"
          },
          "metadata": {
            "needs_background": "light"
          }
        }
      ],
      "source": [
        "X_train, X_test, y_train, y_test = train_test_split(X, target, test_size = 0.2, random_state = 30)\n",
        "cf = confusion_matrix(y_test, pred)\n",
        "cf = ConfusionMatrixDisplay(cf, display_labels = [\"Benign\", \"Early\", \"Pre\", \"Pro\"])\n",
        "cf.plot()"
      ]
    },
    {
      "cell_type": "code",
      "execution_count": null,
      "metadata": {
        "id": "ANm99dYcVVCk",
        "colab": {
          "base_uri": "https://localhost:8080/"
        },
        "outputId": "c25c8882-eb93-49ab-bb95-ae9b9766b71a"
      },
      "outputs": [
        {
          "output_type": "execute_result",
          "data": {
            "text/plain": [
              "0.9302030456852792"
            ]
          },
          "metadata": {},
          "execution_count": 166
        }
      ],
      "source": [
        "from sklearn.metrics import accuracy_score\n",
        "accuracy_score(y_test, pred)"
      ]
    },
    {
      "cell_type": "code",
      "execution_count": null,
      "metadata": {
        "id": "jXVI1oRRd_tF"
      },
      "outputs": [],
      "source": []
    }
  ],
  "metadata": {
    "accelerator": "GPU",
    "colab": {
      "collapsed_sections": [
        "6J-pxSezDGI6",
        "4DiljSFK46VY"
      ],
      "provenance": [],
      "include_colab_link": true
    },
    "gpuClass": "standard",
    "kernelspec": {
      "display_name": "Python 3",
      "name": "python3"
    },
    "language_info": {
      "name": "python"
    }
  },
  "nbformat": 4,
  "nbformat_minor": 0
}